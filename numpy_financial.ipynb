{
  "nbformat": 4,
  "nbformat_minor": 0,
  "metadata": {
    "colab": {
      "name": "numpy_financial.ipynb",
      "provenance": [],
      "collapsed_sections": [],
      "mount_file_id": "1K_6t0yZnOQgTCozV08_k6gsXg0DjQXwc",
      "authorship_tag": "ABX9TyPVPUyUVvyHclfjDJFq4ZO/",
      "include_colab_link": true
    },
    "kernelspec": {
      "name": "python3",
      "display_name": "Python 3"
    },
    "language_info": {
      "name": "python"
    }
  },
  "cells": [
    {
      "cell_type": "markdown",
      "metadata": {
        "id": "view-in-github",
        "colab_type": "text"
      },
      "source": [
        "<a href=\"https://colab.research.google.com/github/lismarcarolinacamacho/PYTHON/blob/main/numpy_financial.ipynb\" target=\"_parent\"><img src=\"https://colab.research.google.com/assets/colab-badge.svg\" alt=\"Open In Colab\"/></a>"
      ]
    },
    {
      "cell_type": "markdown",
      "source": [
        "#Python en finanzas"
      ],
      "metadata": {
        "id": "KzA-9lUXMi9L"
      }
    },
    {
      "cell_type": "code",
      "source": [
        "#variables numericas\n",
        "\n",
        "var1= 10\n",
        "var2=1000.5"
      ],
      "metadata": {
        "id": "YXpDQDJeMkfz"
      },
      "execution_count": 1,
      "outputs": []
    },
    {
      "cell_type": "code",
      "source": [
        "#string\n",
        "\n",
        "str1= 'Balance'\n",
        "str2= 'Capital'\n",
        "\n"
      ],
      "metadata": {
        "id": "EeAV8RPjNLmr"
      },
      "execution_count": 2,
      "outputs": []
    },
    {
      "cell_type": "code",
      "source": [
        "#Diccionarios\n",
        "\n",
        "Dict1={}\n",
        "Dict1={'Juan':10, 'Maria':20, 'Matias':50}"
      ],
      "metadata": {
        "id": "eKqMt9zfNYCy"
      },
      "execution_count": 3,
      "outputs": []
    },
    {
      "cell_type": "code",
      "source": [
        "#Lista\n",
        "\n",
        "lista =['abc',123, 5.5,'Balance']"
      ],
      "metadata": {
        "id": "iIHvC-wmNzuR"
      },
      "execution_count": 4,
      "outputs": []
    },
    {
      "cell_type": "code",
      "source": [
        "#Calculo iterativo\n",
        "\n",
        "tasa= 0.1\n",
        "CASH_FLOWS=[-200,50,50,50,50,50]\n",
        "\n",
        "VPN=0\n",
        "\n",
        "VPN+=(CASH_FLOWS[0]/((1+tasa)**0)) #momento 0\n",
        "VPN+=(CASH_FLOWS[1]/((1+tasa)**1)) #momento 1\n",
        "VPN+=(CASH_FLOWS[2]/((1+tasa)**2)) #momento 2\n",
        "VPN+=(CASH_FLOWS[3]/((1+tasa)**3)) #momento 3\n",
        "VPN+=(CASH_FLOWS[4]/((1+tasa)**4)) #momento 4\n",
        "VPN+=(CASH_FLOWS[5]/((1+tasa)**5)) #momento 5\n",
        "print(\"El valor Presente Neto es\",VPN)\n",
        "\n",
        "\n",
        "#BUCLE\n",
        "\n",
        "VPN_i=0\n",
        "for i in range(len(CASH_FLOWS)):\n",
        "  VPN_i += CASH_FLOWS[i]/((1+tasa)**i)\n",
        "print(\"El valor Presente Neto es\",VPN_i)"
      ],
      "metadata": {
        "colab": {
          "base_uri": "https://localhost:8080/"
        },
        "id": "8T56cTsXOGqn",
        "outputId": "011e32e9-9b09-4d13-f577-a0df1a7895f8"
      },
      "execution_count": 5,
      "outputs": [
        {
          "output_type": "stream",
          "name": "stdout",
          "text": [
            "El valor Presente Neto es -10.460661529577635\n",
            "El valor Presente Neto es -10.460661529577635\n"
          ]
        }
      ]
    },
    {
      "cell_type": "code",
      "source": [
        "#min 27:05\n"
      ],
      "metadata": {
        "id": "9zTYp__DOGmJ"
      },
      "execution_count": 6,
      "outputs": []
    },
    {
      "cell_type": "code",
      "source": [
        "pip install numpy_financial "
      ],
      "metadata": {
        "colab": {
          "base_uri": "https://localhost:8080/"
        },
        "id": "D5_QuFm1OJEh",
        "outputId": "d07b59e2-d2e9-4979-d3b8-1b573fcac187"
      },
      "execution_count": 7,
      "outputs": [
        {
          "output_type": "stream",
          "name": "stdout",
          "text": [
            "Requirement already satisfied: numpy_financial in /usr/local/lib/python3.7/dist-packages (1.0.0)\n",
            "Requirement already satisfied: numpy>=1.15 in /usr/local/lib/python3.7/dist-packages (from numpy_financial) (1.21.5)\n"
          ]
        }
      ]
    },
    {
      "cell_type": "code",
      "source": [
        "import numpy as np\n",
        "import numpy_financial as npf\n"
      ],
      "metadata": {
        "id": "NQHDQV45OJHf"
      },
      "execution_count": 8,
      "outputs": []
    },
    {
      "cell_type": "code",
      "source": [
        "NVP_np=npf.npv(tasa,CASH_FLOWS)\n",
        "print(\"El valor Presente Neto es\", NVP_np)"
      ],
      "metadata": {
        "colab": {
          "base_uri": "https://localhost:8080/"
        },
        "id": "id4364R5OJK2",
        "outputId": "124da427-c22e-4aab-a7e3-bd6165b52347"
      },
      "execution_count": 9,
      "outputs": [
        {
          "output_type": "stream",
          "name": "stdout",
          "text": [
            "El valor Presente Neto es -10.460661529577635\n"
          ]
        }
      ]
    },
    {
      "cell_type": "code",
      "source": [
        "pip install yfinance"
      ],
      "metadata": {
        "colab": {
          "base_uri": "https://localhost:8080/"
        },
        "id": "k8FdXiGyOJOM",
        "outputId": "46b8411d-3e4e-4f52-fb61-cf3b40b7e1d6"
      },
      "execution_count": 10,
      "outputs": [
        {
          "output_type": "stream",
          "name": "stdout",
          "text": [
            "Requirement already satisfied: yfinance in /usr/local/lib/python3.7/dist-packages (0.1.70)\n",
            "Requirement already satisfied: requests>=2.26 in /usr/local/lib/python3.7/dist-packages (from yfinance) (2.27.1)\n",
            "Requirement already satisfied: multitasking>=0.0.7 in /usr/local/lib/python3.7/dist-packages (from yfinance) (0.0.10)\n",
            "Requirement already satisfied: numpy>=1.15 in /usr/local/lib/python3.7/dist-packages (from yfinance) (1.21.5)\n",
            "Requirement already satisfied: pandas>=0.24.0 in /usr/local/lib/python3.7/dist-packages (from yfinance) (1.3.5)\n",
            "Requirement already satisfied: lxml>=4.5.1 in /usr/local/lib/python3.7/dist-packages (from yfinance) (4.7.1)\n",
            "Requirement already satisfied: pytz>=2017.3 in /usr/local/lib/python3.7/dist-packages (from pandas>=0.24.0->yfinance) (2018.9)\n",
            "Requirement already satisfied: python-dateutil>=2.7.3 in /usr/local/lib/python3.7/dist-packages (from pandas>=0.24.0->yfinance) (2.8.2)\n",
            "Requirement already satisfied: six>=1.5 in /usr/local/lib/python3.7/dist-packages (from python-dateutil>=2.7.3->pandas>=0.24.0->yfinance) (1.15.0)\n",
            "Requirement already satisfied: idna<4,>=2.5 in /usr/local/lib/python3.7/dist-packages (from requests>=2.26->yfinance) (2.10)\n",
            "Requirement already satisfied: urllib3<1.27,>=1.21.1 in /usr/local/lib/python3.7/dist-packages (from requests>=2.26->yfinance) (1.24.3)\n",
            "Requirement already satisfied: charset-normalizer~=2.0.0 in /usr/local/lib/python3.7/dist-packages (from requests>=2.26->yfinance) (2.0.11)\n",
            "Requirement already satisfied: certifi>=2017.4.17 in /usr/local/lib/python3.7/dist-packages (from requests>=2.26->yfinance) (2021.10.8)\n"
          ]
        }
      ]
    },
    {
      "cell_type": "markdown",
      "source": [
        "# Ejemplo de correlación"
      ],
      "metadata": {
        "id": "aWouB9GIWBnQ"
      }
    },
    {
      "cell_type": "code",
      "source": [
        "import yfinance as yf # libreria de YaHoo Finance\n",
        "import pandas as pd\n",
        "tickers = ['SPY','GLD','QQQ','VWO','XLV','VNQ','XLE','XLP','XLU']"
      ],
      "metadata": {
        "id": "v4LGxX2eS2f_"
      },
      "execution_count": 18,
      "outputs": []
    },
    {
      "cell_type": "code",
      "source": [
        "precios = {}\n",
        "i = 0\n",
        "\n",
        "for ticker in tickers:\n",
        "  print(f\"Descrgando Datos de:{ticker}|Numero:{i}/{len(tickers)}\")\n",
        "precios[ticker] =yf.download(tickers, period='10y')\n",
        "i+=1\n"
      ],
      "metadata": {
        "colab": {
          "base_uri": "https://localhost:8080/"
        },
        "id": "_0LczTPlS2if",
        "outputId": "b6090c98-6337-40e5-f330-cd0c7b5c1e0c"
      },
      "execution_count": 19,
      "outputs": [
        {
          "output_type": "stream",
          "name": "stdout",
          "text": [
            "Descrgando Datos de:SPY|Numero:0/9\n",
            "Descrgando Datos de:GLD|Numero:0/9\n",
            "Descrgando Datos de:QQQ|Numero:0/9\n",
            "Descrgando Datos de:VWO|Numero:0/9\n",
            "Descrgando Datos de:XLV|Numero:0/9\n",
            "Descrgando Datos de:VNQ|Numero:0/9\n",
            "Descrgando Datos de:XLE|Numero:0/9\n",
            "Descrgando Datos de:XLP|Numero:0/9\n",
            "Descrgando Datos de:XLU|Numero:0/9\n",
            "[*********************100%***********************]  9 of 9 completed\n"
          ]
        }
      ]
    },
    {
      "cell_type": "code",
      "source": [
        "\n",
        "#Ejemplo de Datos\n",
        "\n",
        "print(precios[tickers[0]])\n",
        "\n",
        "#Quiero os precios de cierre en un mismo dataframe\n",
        "fechas = precios[tickers[0]].index\n",
        "dataframe_cierre = pd.DataFrame(index= fechas)\n",
        "\n",
        "for ticker in tickers:\n"
      ],
      "metadata": {
        "colab": {
          "base_uri": "https://localhost:8080/",
          "height": 130
        },
        "id": "5jKDAYEFWKHm",
        "outputId": "807a013a-3206-4b3a-d8d3-69268eb8af05"
      },
      "execution_count": 15,
      "outputs": [
        {
          "output_type": "error",
          "ename": "SyntaxError",
          "evalue": "ignored",
          "traceback": [
            "\u001b[0;36m  File \u001b[0;32m\"<ipython-input-15-d769cedf4704>\"\u001b[0;36m, line \u001b[0;32m10\u001b[0m\n\u001b[0;31m    for ticker in tickers:\u001b[0m\n\u001b[0m                          ^\u001b[0m\n\u001b[0;31mSyntaxError\u001b[0m\u001b[0;31m:\u001b[0m unexpected EOF while parsing\n"
          ]
        }
      ]
    },
    {
      "cell_type": "code",
      "source": [
        ""
      ],
      "metadata": {
        "id": "rl_XluOmS2mu"
      },
      "execution_count": null,
      "outputs": []
    },
    {
      "cell_type": "code",
      "source": [
        ""
      ],
      "metadata": {
        "id": "DI1R1VfsOJRQ"
      },
      "execution_count": null,
      "outputs": []
    },
    {
      "cell_type": "code",
      "source": [
        ""
      ],
      "metadata": {
        "id": "u8EQ7wztOJYC"
      },
      "execution_count": null,
      "outputs": []
    },
    {
      "cell_type": "code",
      "source": [
        ""
      ],
      "metadata": {
        "id": "N9kJe9ZTOJab"
      },
      "execution_count": null,
      "outputs": []
    }
  ]
}