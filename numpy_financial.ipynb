{
  "nbformat": 4,
  "nbformat_minor": 0,
  "metadata": {
    "colab": {
      "name": "numpy_financial.ipynb",
      "provenance": [],
      "collapsed_sections": [],
      "mount_file_id": "1K_6t0yZnOQgTCozV08_k6gsXg0DjQXwc",
      "authorship_tag": "ABX9TyPpFrFcEC1QORLEWU7Px0oz",
      "include_colab_link": true
    },
    "kernelspec": {
      "name": "python3",
      "display_name": "Python 3"
    },
    "language_info": {
      "name": "python"
    }
  },
  "cells": [
    {
      "cell_type": "markdown",
      "metadata": {
        "id": "view-in-github",
        "colab_type": "text"
      },
      "source": [
        "<a href=\"https://colab.research.google.com/github/lismarcarolinacamacho/PYTHON/blob/main/numpy_financial.ipynb\" target=\"_parent\"><img src=\"https://colab.research.google.com/assets/colab-badge.svg\" alt=\"Open In Colab\"/></a>"
      ]
    },
    {
      "cell_type": "markdown",
      "source": [
        "#Python en finanzas"
      ],
      "metadata": {
        "id": "KzA-9lUXMi9L"
      }
    },
    {
      "cell_type": "code",
      "source": [
        "#variables numericas\n",
        "\n",
        "var1= 10\n",
        "var2=1000.5"
      ],
      "metadata": {
        "id": "YXpDQDJeMkfz"
      },
      "execution_count": 1,
      "outputs": []
    },
    {
      "cell_type": "code",
      "source": [
        "#string\n",
        "\n",
        "str1= 'Balance'\n",
        "str2= 'Capital'\n",
        "\n"
      ],
      "metadata": {
        "id": "EeAV8RPjNLmr"
      },
      "execution_count": 2,
      "outputs": []
    },
    {
      "cell_type": "code",
      "source": [
        "#Diccionarios\n",
        "\n",
        "Dict1={}\n",
        "Dict1={'Juan':10, 'Maria':20, 'Matias':50}"
      ],
      "metadata": {
        "id": "eKqMt9zfNYCy"
      },
      "execution_count": 3,
      "outputs": []
    },
    {
      "cell_type": "code",
      "source": [
        "#Lista\n",
        "\n",
        "lista =['abc',123, 5.5,'Balance']"
      ],
      "metadata": {
        "id": "iIHvC-wmNzuR"
      },
      "execution_count": 4,
      "outputs": []
    },
    {
      "cell_type": "code",
      "source": [
        "#Calculo iterativo\n",
        "\n",
        "tasa= 0.1\n",
        "CASH_FLOWS=[-200,50,50,50,50,50]\n",
        "\n",
        "VPN=0\n",
        "\n",
        "VPN+=(CASH_FLOWS[0]/((1+tasa)**0)) #momento 0\n",
        "VPN+=(CASH_FLOWS[1]/((1+tasa)**1)) #momento 1\n",
        "VPN+=(CASH_FLOWS[2]/((1+tasa)**2)) #momento 2\n",
        "VPN+=(CASH_FLOWS[3]/((1+tasa)**3)) #momento 3\n",
        "VPN+=(CASH_FLOWS[4]/((1+tasa)**4)) #momento 4\n",
        "VPN+=(CASH_FLOWS[5]/((1+tasa)**5)) #momento 5\n",
        "print(\"El valor Presente Neto es\",VPN)\n",
        "\n",
        "\n",
        "#BUCLE\n",
        "\n",
        "VPN_i=0\n",
        "for i in range(len(CASH_FLOWS)):\n",
        "  VPN_i += CASH_FLOWS[i]/((1+tasa)**i)\n",
        "print(\"El valor Presente Neto es\",VPN_i)"
      ],
      "metadata": {
        "colab": {
          "base_uri": "https://localhost:8080/"
        },
        "id": "8T56cTsXOGqn",
        "outputId": "ecbc64e1-e9ce-4660-b138-32772b3dbf56"
      },
      "execution_count": 7,
      "outputs": [
        {
          "output_type": "stream",
          "name": "stdout",
          "text": [
            "El valor Presente Neto es -10.460661529577635\n",
            "El valor Presente Neto es -10.460661529577635\n"
          ]
        }
      ]
    },
    {
      "cell_type": "code",
      "source": [
        "#min 27:05\n"
      ],
      "metadata": {
        "id": "9zTYp__DOGmJ"
      },
      "execution_count": 14,
      "outputs": []
    },
    {
      "cell_type": "code",
      "source": [
        "pip install numpy_financial "
      ],
      "metadata": {
        "colab": {
          "base_uri": "https://localhost:8080/"
        },
        "id": "D5_QuFm1OJEh",
        "outputId": "54b59fa0-96e9-4ebe-9312-987a7a8a5905"
      },
      "execution_count": 9,
      "outputs": [
        {
          "output_type": "stream",
          "name": "stdout",
          "text": [
            "Collecting numpy_financial\n",
            "  Downloading numpy_financial-1.0.0-py3-none-any.whl (14 kB)\n",
            "Requirement already satisfied: numpy>=1.15 in /usr/local/lib/python3.7/dist-packages (from numpy_financial) (1.21.5)\n",
            "Installing collected packages: numpy-financial\n",
            "Successfully installed numpy-financial-1.0.0\n"
          ]
        }
      ]
    },
    {
      "cell_type": "code",
      "source": [
        "import numpy as np\n",
        "import numpy_financial as npf\n"
      ],
      "metadata": {
        "id": "NQHDQV45OJHf"
      },
      "execution_count": 10,
      "outputs": []
    },
    {
      "cell_type": "code",
      "source": [
        "NVP_np=npf.npv(tasa,CASH_FLOWS)\n",
        "print(\"El valor Presente Neto es\", NVP_np)"
      ],
      "metadata": {
        "colab": {
          "base_uri": "https://localhost:8080/"
        },
        "id": "id4364R5OJK2",
        "outputId": "3ce68af3-51a9-4fe8-d2ec-c5c368df44cc"
      },
      "execution_count": 12,
      "outputs": [
        {
          "output_type": "stream",
          "name": "stdout",
          "text": [
            "El valor Presente Neto es -10.460661529577635\n"
          ]
        }
      ]
    },
    {
      "cell_type": "code",
      "source": [
        ""
      ],
      "metadata": {
        "id": "k8FdXiGyOJOM"
      },
      "execution_count": null,
      "outputs": []
    },
    {
      "cell_type": "code",
      "source": [
        ""
      ],
      "metadata": {
        "id": "v4LGxX2eS2f_"
      },
      "execution_count": null,
      "outputs": []
    },
    {
      "cell_type": "code",
      "source": [
        ""
      ],
      "metadata": {
        "id": "_0LczTPlS2if"
      },
      "execution_count": null,
      "outputs": []
    },
    {
      "cell_type": "code",
      "source": [
        ""
      ],
      "metadata": {
        "id": "rl_XluOmS2mu"
      },
      "execution_count": null,
      "outputs": []
    },
    {
      "cell_type": "code",
      "source": [
        ""
      ],
      "metadata": {
        "id": "DI1R1VfsOJRQ"
      },
      "execution_count": null,
      "outputs": []
    },
    {
      "cell_type": "code",
      "source": [
        ""
      ],
      "metadata": {
        "id": "u8EQ7wztOJYC"
      },
      "execution_count": null,
      "outputs": []
    },
    {
      "cell_type": "code",
      "source": [
        ""
      ],
      "metadata": {
        "id": "N9kJe9ZTOJab"
      },
      "execution_count": null,
      "outputs": []
    }
  ]
}