{
  "nbformat": 4,
  "nbformat_minor": 0,
  "metadata": {
    "colab": {
      "name": "numpy_financial.ipynb",
      "provenance": [],
      "collapsed_sections": [],
      "mount_file_id": "1K_6t0yZnOQgTCozV08_k6gsXg0DjQXwc",
      "authorship_tag": "ABX9TyMuc+pDrWd+WKDhOvJHeXGZ",
      "include_colab_link": true
    },
    "kernelspec": {
      "name": "python3",
      "display_name": "Python 3"
    },
    "language_info": {
      "name": "python"
    }
  },
  "cells": [
    {
      "cell_type": "markdown",
      "metadata": {
        "id": "view-in-github",
        "colab_type": "text"
      },
      "source": [
        "<a href=\"https://colab.research.google.com/github/lismarcarolinacamacho/PYTHON/blob/main/numpy_financial.ipynb\" target=\"_parent\"><img src=\"https://colab.research.google.com/assets/colab-badge.svg\" alt=\"Open In Colab\"/></a>"
      ]
    },
    {
      "cell_type": "markdown",
      "source": [
        "#Python en finanzas"
      ],
      "metadata": {
        "id": "KzA-9lUXMi9L"
      }
    },
    {
      "cell_type": "code",
      "source": [
        "#variables numericas\n",
        "\n",
        "var1= 10\n",
        "var2=1000.5"
      ],
      "metadata": {
        "id": "YXpDQDJeMkfz"
      },
      "execution_count": 1,
      "outputs": []
    },
    {
      "cell_type": "code",
      "source": [
        "#string\n",
        "\n",
        "str1= 'Balance'\n",
        "str2= 'Capital'\n",
        "\n"
      ],
      "metadata": {
        "id": "EeAV8RPjNLmr"
      },
      "execution_count": 2,
      "outputs": []
    },
    {
      "cell_type": "code",
      "source": [
        "#Diccionarios\n",
        "\n",
        "Dict1={}\n",
        "Dict1={'Juan':10, 'Maria':20, 'Matias':50}"
      ],
      "metadata": {
        "id": "eKqMt9zfNYCy"
      },
      "execution_count": 3,
      "outputs": []
    },
    {
      "cell_type": "code",
      "source": [
        "#Lista\n",
        "\n",
        "lista =['abc',123, 5.5,'Balance']"
      ],
      "metadata": {
        "id": "iIHvC-wmNzuR"
      },
      "execution_count": 4,
      "outputs": []
    },
    {
      "cell_type": "code",
      "source": [
        "#Calculo iterativo\n",
        "\n",
        "tasa= 0.1\n",
        "CASH_FLOWS=[-200,50,50,50,50,50]\n",
        "\n",
        "VPN=0\n",
        "\n",
        "VPN+=(CASH_FLOWS[0]/((1+tasa)**0)) #momento 0\n",
        "VPN+=(CASH_FLOWS[1]/((1+tasa)**1)) #momento 1\n",
        "VPN+=(CASH_FLOWS[2]/((1+tasa)**2)) #momento 2\n",
        "VPN+=(CASH_FLOWS[3]/((1+tasa)**3)) #momento 3\n",
        "VPN+=(CASH_FLOWS[4]/((1+tasa)**4)) #momento 4\n",
        "VPN+=(CASH_FLOWS[5]/((1+tasa)**5)) #momento 5\n",
        "print(\"El valor Presente Neto es\",VPN)\n",
        "\n",
        "\n",
        "#BUCLE\n",
        "\n",
        "VPN_i=0\n",
        "for i in range(len(CASH_FLOWS)):\n",
        "  VPN_i += CASH_FLOWS[i]/((1+tasa)**i)\n",
        "print(\"El valor Presente Neto es\",VPN_i)"
      ],
      "metadata": {
        "colab": {
          "base_uri": "https://localhost:8080/"
        },
        "id": "8T56cTsXOGqn",
        "outputId": "d806f441-6543-4f8b-806d-f1fdde479a0a"
      },
      "execution_count": 5,
      "outputs": [
        {
          "output_type": "stream",
          "name": "stdout",
          "text": [
            "El valor Presente Neto es -10.460661529577635\n",
            "El valor Presente Neto es -10.460661529577635\n"
          ]
        }
      ]
    },
    {
      "cell_type": "code",
      "source": [
        "#min 27:05\n"
      ],
      "metadata": {
        "id": "9zTYp__DOGmJ"
      },
      "execution_count": 6,
      "outputs": []
    },
    {
      "cell_type": "code",
      "source": [
        "pip install numpy_financial "
      ],
      "metadata": {
        "colab": {
          "base_uri": "https://localhost:8080/"
        },
        "id": "D5_QuFm1OJEh",
        "outputId": "ee288106-a97c-455a-fa49-46581482aa5f"
      },
      "execution_count": 7,
      "outputs": [
        {
          "output_type": "stream",
          "name": "stdout",
          "text": [
            "Collecting numpy_financial\n",
            "  Downloading numpy_financial-1.0.0-py3-none-any.whl (14 kB)\n",
            "Requirement already satisfied: numpy>=1.15 in /usr/local/lib/python3.7/dist-packages (from numpy_financial) (1.21.5)\n",
            "Installing collected packages: numpy-financial\n",
            "Successfully installed numpy-financial-1.0.0\n"
          ]
        }
      ]
    },
    {
      "cell_type": "code",
      "source": [
        "import numpy as np\n",
        "import numpy_financial as npf\n"
      ],
      "metadata": {
        "id": "NQHDQV45OJHf"
      },
      "execution_count": 8,
      "outputs": []
    },
    {
      "cell_type": "code",
      "source": [
        "NVP_np=npf.npv(tasa,CASH_FLOWS)\n",
        "print(\"El valor Presente Neto es\", NVP_np)"
      ],
      "metadata": {
        "colab": {
          "base_uri": "https://localhost:8080/"
        },
        "id": "id4364R5OJK2",
        "outputId": "2ce76702-8855-4278-bef6-2b2c71199c69"
      },
      "execution_count": 9,
      "outputs": [
        {
          "output_type": "stream",
          "name": "stdout",
          "text": [
            "El valor Presente Neto es -10.460661529577635\n"
          ]
        }
      ]
    },
    {
      "cell_type": "code",
      "source": [
        "pip install yfinance"
      ],
      "metadata": {
        "colab": {
          "base_uri": "https://localhost:8080/"
        },
        "id": "k8FdXiGyOJOM",
        "outputId": "f6f7753a-0470-4b4f-d2fa-b5fb3b45f5fc"
      },
      "execution_count": 10,
      "outputs": [
        {
          "output_type": "stream",
          "name": "stdout",
          "text": [
            "Collecting yfinance\n",
            "  Downloading yfinance-0.1.70-py2.py3-none-any.whl (26 kB)\n",
            "Collecting requests>=2.26\n",
            "  Downloading requests-2.27.1-py2.py3-none-any.whl (63 kB)\n",
            "\u001b[K     |████████████████████████████████| 63 kB 1.5 MB/s \n",
            "\u001b[?25hRequirement already satisfied: pandas>=0.24.0 in /usr/local/lib/python3.7/dist-packages (from yfinance) (1.3.5)\n",
            "Collecting lxml>=4.5.1\n",
            "  Downloading lxml-4.7.1-cp37-cp37m-manylinux_2_17_x86_64.manylinux2014_x86_64.manylinux_2_24_x86_64.whl (6.4 MB)\n",
            "\u001b[K     |████████████████████████████████| 6.4 MB 34.5 MB/s \n",
            "\u001b[?25hRequirement already satisfied: multitasking>=0.0.7 in /usr/local/lib/python3.7/dist-packages (from yfinance) (0.0.10)\n",
            "Requirement already satisfied: numpy>=1.15 in /usr/local/lib/python3.7/dist-packages (from yfinance) (1.21.5)\n",
            "Requirement already satisfied: pytz>=2017.3 in /usr/local/lib/python3.7/dist-packages (from pandas>=0.24.0->yfinance) (2018.9)\n",
            "Requirement already satisfied: python-dateutil>=2.7.3 in /usr/local/lib/python3.7/dist-packages (from pandas>=0.24.0->yfinance) (2.8.2)\n",
            "Requirement already satisfied: six>=1.5 in /usr/local/lib/python3.7/dist-packages (from python-dateutil>=2.7.3->pandas>=0.24.0->yfinance) (1.15.0)\n",
            "Requirement already satisfied: certifi>=2017.4.17 in /usr/local/lib/python3.7/dist-packages (from requests>=2.26->yfinance) (2021.10.8)\n",
            "Requirement already satisfied: charset-normalizer~=2.0.0 in /usr/local/lib/python3.7/dist-packages (from requests>=2.26->yfinance) (2.0.11)\n",
            "Requirement already satisfied: idna<4,>=2.5 in /usr/local/lib/python3.7/dist-packages (from requests>=2.26->yfinance) (2.10)\n",
            "Requirement already satisfied: urllib3<1.27,>=1.21.1 in /usr/local/lib/python3.7/dist-packages (from requests>=2.26->yfinance) (1.24.3)\n",
            "Installing collected packages: requests, lxml, yfinance\n",
            "  Attempting uninstall: requests\n",
            "    Found existing installation: requests 2.23.0\n",
            "    Uninstalling requests-2.23.0:\n",
            "      Successfully uninstalled requests-2.23.0\n",
            "  Attempting uninstall: lxml\n",
            "    Found existing installation: lxml 4.2.6\n",
            "    Uninstalling lxml-4.2.6:\n",
            "      Successfully uninstalled lxml-4.2.6\n",
            "\u001b[31mERROR: pip's dependency resolver does not currently take into account all the packages that are installed. This behaviour is the source of the following dependency conflicts.\n",
            "google-colab 1.0.0 requires requests~=2.23.0, but you have requests 2.27.1 which is incompatible.\n",
            "datascience 0.10.6 requires folium==0.2.1, but you have folium 0.8.3 which is incompatible.\u001b[0m\n",
            "Successfully installed lxml-4.7.1 requests-2.27.1 yfinance-0.1.70\n"
          ]
        }
      ]
    },
    {
      "cell_type": "markdown",
      "source": [
        "# Ejemplo de correlación"
      ],
      "metadata": {
        "id": "aWouB9GIWBnQ"
      }
    },
    {
      "cell_type": "code",
      "source": [
        "import yfinance as yf # libreria de YaHoo Finance\n",
        "import pandas as pd\n",
        "tickers = ['SPY','GLD','QQQ','VWO','XLV','VNQ','XLE','XLP','XLU']"
      ],
      "metadata": {
        "id": "v4LGxX2eS2f_"
      },
      "execution_count": 11,
      "outputs": []
    },
    {
      "cell_type": "code",
      "source": [
        "precios = {}\n",
        "i = 0\n",
        "\n",
        "for ticker in tickers:\n",
        "  print(f\"Descargando Datos de:{ticker}|Numero:{i}/{len(tickers)}\")\n",
        "  precios[ticker] =yf.download(ticker, period='10y')\n",
        "  i+=1\n"
      ],
      "metadata": {
        "colab": {
          "base_uri": "https://localhost:8080/"
        },
        "id": "_0LczTPlS2if",
        "outputId": "f0240f7f-467e-43bd-ce41-8913cfa69a86"
      },
      "execution_count": 12,
      "outputs": [
        {
          "output_type": "stream",
          "name": "stdout",
          "text": [
            "Descargando Datos de:SPY|Numero:0/9\n",
            "[*********************100%***********************]  1 of 1 completed\n",
            "Descargando Datos de:GLD|Numero:1/9\n",
            "[*********************100%***********************]  1 of 1 completed\n",
            "Descargando Datos de:QQQ|Numero:2/9\n",
            "[*********************100%***********************]  1 of 1 completed\n",
            "Descargando Datos de:VWO|Numero:3/9\n",
            "[*********************100%***********************]  1 of 1 completed\n",
            "Descargando Datos de:XLV|Numero:4/9\n",
            "[*********************100%***********************]  1 of 1 completed\n",
            "Descargando Datos de:VNQ|Numero:5/9\n",
            "[*********************100%***********************]  1 of 1 completed\n",
            "Descargando Datos de:XLE|Numero:6/9\n",
            "[*********************100%***********************]  1 of 1 completed\n",
            "Descargando Datos de:XLP|Numero:7/9\n",
            "[*********************100%***********************]  1 of 1 completed\n",
            "Descargando Datos de:XLU|Numero:8/9\n",
            "[*********************100%***********************]  1 of 1 completed\n"
          ]
        }
      ]
    },
    {
      "cell_type": "code",
      "source": [
        "#ejemplo de datos: apertura, maximo, minimo,cierre y volumen\n",
        "print(precios[tickers[0]])"
      ],
      "metadata": {
        "colab": {
          "base_uri": "https://localhost:8080/"
        },
        "id": "rl_XluOmS2mu",
        "outputId": "242ed90a-bb96-4f27-e0d4-26fb8419f468"
      },
      "execution_count": 13,
      "outputs": [
        {
          "output_type": "stream",
          "name": "stdout",
          "text": [
            "                  Open        High  ...   Adj Close     Volume\n",
            "Date                                ...                       \n",
            "2012-02-16  134.570007  136.169998  ...  112.336594  186567800\n",
            "2012-02-17  136.520004  136.630005  ...  112.633842  129869400\n",
            "2012-02-21  136.729996  137.050003  ...  112.683418  134042300\n",
            "2012-02-22  136.259995  136.550003  ...  112.320068  124455300\n",
            "2012-02-23  135.960007  136.729996  ...  112.815506  137704300\n",
            "...                ...         ...  ...         ...        ...\n",
            "2022-02-10  451.339996  457.709991  ...  449.320007  140103700\n",
            "2022-02-11  449.410004  451.609985  ...  440.459991  153064100\n",
            "2022-02-14  439.920013  441.600006  ...  439.019989  122062800\n",
            "2022-02-15  443.730011  446.279999  ...  446.100006   88482700\n",
            "2022-02-16  443.929993  444.809998  ...  443.312805   29471923\n",
            "\n",
            "[2518 rows x 6 columns]\n"
          ]
        }
      ]
    },
    {
      "cell_type": "code",
      "source": [
        "#min 30:49"
      ],
      "metadata": {
        "id": "DI1R1VfsOJRQ"
      },
      "execution_count": 14,
      "outputs": []
    },
    {
      "cell_type": "code",
      "source": [
        "# precios de cierre en un mismo dataframe\n",
        "\n",
        "fechas = precios[tickers[0]].index\n",
        "dataframe_cierre = pd.DataFrame(index=fechas)\n",
        "\n",
        "for ticker in tickers:\n",
        "  dataframe_cierre[ticker] = precios[ticker]['Close']\n",
        "\n",
        "#calculo de correlaciones\n",
        "\n",
        "correlations = dataframe_cierre.corr(method= 'pearson')\n",
        "\n",
        "#plot\n",
        "\n",
        "import matplotlib.pyplot as plt\n",
        "fig, ax = plt.subplots()\n",
        "im = ax.imshow(correlations)"
      ],
      "metadata": {
        "id": "u8EQ7wztOJYC",
        "colab": {
          "base_uri": "https://localhost:8080/",
          "height": 265
        },
        "outputId": "0f08219b-010c-400d-a40a-fa3b62214b60"
      },
      "execution_count": 16,
      "outputs": [
        {
          "output_type": "display_data",
          "data": {
            "image/png": "[encoded data removed]",
            "text/plain": [
              "<Figure size 432x288 with 1 Axes>"
            ]
          },
          "metadata": {
            "needs_background": "light"
          }
        }
      ]
    },
    {
      "cell_type": "code",
      "source": [
        "dataframe_cierre.to_excel('dataframe_cierre.xlsx')\n",
        "# se muestran los datos ordenados no como en csv que es un desastre"
      ],
      "metadata": {
        "id": "7KT5NBGNw9eC"
      },
      "execution_count": 20,
      "outputs": []
    },
    {
      "cell_type": "code",
      "source": [
        "correlations.to_excel('correlacion.xlsx')\n",
        "\n",
        "\n"
      ],
      "metadata": {
        "id": "N9kJe9ZTOJab"
      },
      "execution_count": 21,
      "outputs": []
    },
    {
      "cell_type": "code",
      "source": [
        "# mostrar tickers\n",
        "\n"
      ],
      "metadata": {
        "id": "wrl7m7qGyRcY"
      },
      "execution_count": null,
      "outputs": []
    }
  ]
}