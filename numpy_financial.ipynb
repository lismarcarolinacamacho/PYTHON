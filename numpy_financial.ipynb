{
  "nbformat": 4,
  "nbformat_minor": 0,
  "metadata": {
    "colab": {
      "name": "numpy_financial.ipynb",
      "provenance": [],
      "collapsed_sections": [],
      "mount_file_id": "1K_6t0yZnOQgTCozV08_k6gsXg0DjQXwc",
      "authorship_tag": "ABX9TyMEq3lbCIxthaSKY7YP280B",
      "include_colab_link": true
    },
    "kernelspec": {
      "name": "python3",
      "display_name": "Python 3"
    },
    "language_info": {
      "name": "python"
    }
  },
  "cells": [
    {
      "cell_type": "markdown",
      "metadata": {
        "id": "view-in-github",
        "colab_type": "text"
      },
      "source": [
        "<a href=\"https://colab.research.google.com/github/lismarcarolinacamacho/PYTHON/blob/main/numpy_financial.ipynb\" target=\"_parent\"><img src=\"https://colab.research.google.com/assets/colab-badge.svg\" alt=\"Open In Colab\"/></a>"
      ]
    },
    {
      "cell_type": "markdown",
      "source": [
        "#Python en finanzas"
      ],
      "metadata": {
        "id": "KzA-9lUXMi9L"
      }
    },
    {
      "cell_type": "code",
      "source": [
        "#variables numericas\n",
        "\n",
        "var1= 10\n",
        "var2=1000.5"
      ],
      "metadata": {
        "id": "YXpDQDJeMkfz"
      },
      "execution_count": 1,
      "outputs": []
    },
    {
      "cell_type": "code",
      "source": [
        "#string\n",
        "\n",
        "str1= 'Balance'\n",
        "str2= 'Capital'\n",
        "\n"
      ],
      "metadata": {
        "id": "EeAV8RPjNLmr"
      },
      "execution_count": 2,
      "outputs": []
    },
    {
      "cell_type": "code",
      "source": [
        "#Diccionarios\n",
        "\n",
        "Dict1={}\n",
        "Dict1={'Juan':10, 'Maria':20, 'Matias':50}"
      ],
      "metadata": {
        "id": "eKqMt9zfNYCy"
      },
      "execution_count": 3,
      "outputs": []
    },
    {
      "cell_type": "code",
      "source": [
        "#Lista\n",
        "\n",
        "lista =['abc',123, 5.5,'Balance']"
      ],
      "metadata": {
        "id": "iIHvC-wmNzuR"
      },
      "execution_count": 4,
      "outputs": []
    },
    {
      "cell_type": "code",
      "source": [
        "#Calculo iterativo\n",
        "\n",
        "tasa= 0.1\n",
        "CASH_FLOWS=[-200,50,50,50,50,50]\n",
        "\n",
        "VPN=0\n",
        "\n",
        "VPN+=(CASH_FLOWS[0]/((1+tasa)**0)) #momento 0\n",
        "VPN+=(CASH_FLOWS[1]/((1+tasa)**1)) #momento 1\n",
        "VPN+=(CASH_FLOWS[2]/((1+tasa)**2)) #momento 2\n",
        "VPN+=(CASH_FLOWS[3]/((1+tasa)**3)) #momento 3\n",
        "VPN+=(CASH_FLOWS[4]/((1+tasa)**4)) #momento 4\n",
        "VPN+=(CASH_FLOWS[5]/((1+tasa)**5)) #momento 5\n",
        "print(\"El valor Presente Neto es\",VPN)\n",
        "\n",
        "\n",
        "#BUCLE\n",
        "\n",
        "VPN_i=0\n",
        "for i in range(len(CASH_FLOWS)):\n",
        "  VPN_i += CASH_FLOWS[i]/((1+tasa)**i)\n",
        "print(\"El valor Presente Neto es\",VPN_i)"
      ],
      "metadata": {
        "colab": {
          "base_uri": "https://localhost:8080/"
        },
        "id": "8T56cTsXOGqn",
        "outputId": "d806f441-6543-4f8b-806d-f1fdde479a0a"
      },
      "execution_count": 5,
      "outputs": [
        {
          "output_type": "stream",
          "name": "stdout",
          "text": [
            "El valor Presente Neto es -10.460661529577635\n",
            "El valor Presente Neto es -10.460661529577635\n"
          ]
        }
      ]
    },
    {
      "cell_type": "code",
      "source": [
        "#min 27:05\n"
      ],
      "metadata": {
        "id": "9zTYp__DOGmJ"
      },
      "execution_count": 6,
      "outputs": []
    },
    {
      "cell_type": "code",
      "source": [
        "pip install numpy_financial "
      ],
      "metadata": {
        "colab": {
          "base_uri": "https://localhost:8080/"
        },
        "id": "D5_QuFm1OJEh",
        "outputId": "ee288106-a97c-455a-fa49-46581482aa5f"
      },
      "execution_count": 7,
      "outputs": [
        {
          "output_type": "stream",
          "name": "stdout",
          "text": [
            "Collecting numpy_financial\n",
            "  Downloading numpy_financial-1.0.0-py3-none-any.whl (14 kB)\n",
            "Requirement already satisfied: numpy>=1.15 in /usr/local/lib/python3.7/dist-packages (from numpy_financial) (1.21.5)\n",
            "Installing collected packages: numpy-financial\n",
            "Successfully installed numpy-financial-1.0.0\n"
          ]
        }
      ]
    },
    {
      "cell_type": "code",
      "source": [
        "import numpy as np\n",
        "import numpy_financial as npf\n"
      ],
      "metadata": {
        "id": "NQHDQV45OJHf"
      },
      "execution_count": 8,
      "outputs": []
    },
    {
      "cell_type": "code",
      "source": [
        "NVP_np=npf.npv(tasa,CASH_FLOWS)\n",
        "print(\"El valor Presente Neto es\", NVP_np)"
      ],
      "metadata": {
        "colab": {
          "base_uri": "https://localhost:8080/"
        },
        "id": "id4364R5OJK2",
        "outputId": "2ce76702-8855-4278-bef6-2b2c71199c69"
      },
      "execution_count": 9,
      "outputs": [
        {
          "output_type": "stream",
          "name": "stdout",
          "text": [
            "El valor Presente Neto es -10.460661529577635\n"
          ]
        }
      ]
    },
    {
      "cell_type": "code",
      "source": [
        "pip install yfinance"
      ],
      "metadata": {
        "colab": {
          "base_uri": "https://localhost:8080/"
        },
        "id": "k8FdXiGyOJOM",
        "outputId": "f6f7753a-0470-4b4f-d2fa-b5fb3b45f5fc"
      },
      "execution_count": 10,
      "outputs": [
        {
          "output_type": "stream",
          "name": "stdout",
          "text": [
            "Collecting yfinance\n",
            "  Downloading yfinance-0.1.70-py2.py3-none-any.whl (26 kB)\n",
            "Collecting requests>=2.26\n",
            "  Downloading requests-2.27.1-py2.py3-none-any.whl (63 kB)\n",
            "\u001b[K     |████████████████████████████████| 63 kB 1.5 MB/s \n",
            "\u001b[?25hRequirement already satisfied: pandas>=0.24.0 in /usr/local/lib/python3.7/dist-packages (from yfinance) (1.3.5)\n",
            "Collecting lxml>=4.5.1\n",
            "  Downloading lxml-4.7.1-cp37-cp37m-manylinux_2_17_x86_64.manylinux2014_x86_64.manylinux_2_24_x86_64.whl (6.4 MB)\n",
            "\u001b[K     |████████████████████████████████| 6.4 MB 34.5 MB/s \n",
            "\u001b[?25hRequirement already satisfied: multitasking>=0.0.7 in /usr/local/lib/python3.7/dist-packages (from yfinance) (0.0.10)\n",
            "Requirement already satisfied: numpy>=1.15 in /usr/local/lib/python3.7/dist-packages (from yfinance) (1.21.5)\n",
            "Requirement already satisfied: pytz>=2017.3 in /usr/local/lib/python3.7/dist-packages (from pandas>=0.24.0->yfinance) (2018.9)\n",
            "Requirement already satisfied: python-dateutil>=2.7.3 in /usr/local/lib/python3.7/dist-packages (from pandas>=0.24.0->yfinance) (2.8.2)\n",
            "Requirement already satisfied: six>=1.5 in /usr/local/lib/python3.7/dist-packages (from python-dateutil>=2.7.3->pandas>=0.24.0->yfinance) (1.15.0)\n",
            "Requirement already satisfied: certifi>=2017.4.17 in /usr/local/lib/python3.7/dist-packages (from requests>=2.26->yfinance) (2021.10.8)\n",
            "Requirement already satisfied: charset-normalizer~=2.0.0 in /usr/local/lib/python3.7/dist-packages (from requests>=2.26->yfinance) (2.0.11)\n",
            "Requirement already satisfied: idna<4,>=2.5 in /usr/local/lib/python3.7/dist-packages (from requests>=2.26->yfinance) (2.10)\n",
            "Requirement already satisfied: urllib3<1.27,>=1.21.1 in /usr/local/lib/python3.7/dist-packages (from requests>=2.26->yfinance) (1.24.3)\n",
            "Installing collected packages: requests, lxml, yfinance\n",
            "  Attempting uninstall: requests\n",
            "    Found existing installation: requests 2.23.0\n",
            "    Uninstalling requests-2.23.0:\n",
            "      Successfully uninstalled requests-2.23.0\n",
            "  Attempting uninstall: lxml\n",
            "    Found existing installation: lxml 4.2.6\n",
            "    Uninstalling lxml-4.2.6:\n",
            "      Successfully uninstalled lxml-4.2.6\n",
            "\u001b[31mERROR: pip's dependency resolver does not currently take into account all the packages that are installed. This behaviour is the source of the following dependency conflicts.\n",
            "google-colab 1.0.0 requires requests~=2.23.0, but you have requests 2.27.1 which is incompatible.\n",
            "datascience 0.10.6 requires folium==0.2.1, but you have folium 0.8.3 which is incompatible.\u001b[0m\n",
            "Successfully installed lxml-4.7.1 requests-2.27.1 yfinance-0.1.70\n"
          ]
        }
      ]
    },
    {
      "cell_type": "markdown",
      "source": [
        "# Ejemplo de correlación"
      ],
      "metadata": {
        "id": "aWouB9GIWBnQ"
      }
    },
    {
      "cell_type": "code",
      "source": [
        "import yfinance as yf # libreria de YaHoo Finance\n",
        "import pandas as pd\n",
        "tickers = ['SPY','GLD','QQQ','VWO','XLV','VNQ','XLE','XLP','XLU']"
      ],
      "metadata": {
        "id": "v4LGxX2eS2f_"
      },
      "execution_count": 11,
      "outputs": []
    },
    {
      "cell_type": "code",
      "source": [
        "precios = {}\n",
        "i = 0\n",
        "\n",
        "for ticker in tickers:\n",
        "  print(f\"Descargando Datos de:{ticker}|Numero:{i}/{len(tickers)}\")\n",
        "  precios[ticker] =yf.download(ticker, period='10y')\n",
        "  i+=1\n"
      ],
      "metadata": {
        "colab": {
          "base_uri": "https://localhost:8080/"
        },
        "id": "_0LczTPlS2if",
        "outputId": "f0240f7f-467e-43bd-ce41-8913cfa69a86"
      },
      "execution_count": 12,
      "outputs": [
        {
          "output_type": "stream",
          "name": "stdout",
          "text": [
            "Descargando Datos de:SPY|Numero:0/9\n",
            "[*********************100%***********************]  1 of 1 completed\n",
            "Descargando Datos de:GLD|Numero:1/9\n",
            "[*********************100%***********************]  1 of 1 completed\n",
            "Descargando Datos de:QQQ|Numero:2/9\n",
            "[*********************100%***********************]  1 of 1 completed\n",
            "Descargando Datos de:VWO|Numero:3/9\n",
            "[*********************100%***********************]  1 of 1 completed\n",
            "Descargando Datos de:XLV|Numero:4/9\n",
            "[*********************100%***********************]  1 of 1 completed\n",
            "Descargando Datos de:VNQ|Numero:5/9\n",
            "[*********************100%***********************]  1 of 1 completed\n",
            "Descargando Datos de:XLE|Numero:6/9\n",
            "[*********************100%***********************]  1 of 1 completed\n",
            "Descargando Datos de:XLP|Numero:7/9\n",
            "[*********************100%***********************]  1 of 1 completed\n",
            "Descargando Datos de:XLU|Numero:8/9\n",
            "[*********************100%***********************]  1 of 1 completed\n"
          ]
        }
      ]
    },
    {
      "cell_type": "code",
      "source": [
        "#ejemplo de datos: apertura, maximo, minimo,cierre y volumen\n",
        "print(precios[tickers[0]])"
      ],
      "metadata": {
        "colab": {
          "base_uri": "https://localhost:8080/"
        },
        "id": "rl_XluOmS2mu",
        "outputId": "242ed90a-bb96-4f27-e0d4-26fb8419f468"
      },
      "execution_count": 13,
      "outputs": [
        {
          "output_type": "stream",
          "name": "stdout",
          "text": [
            "                  Open        High  ...   Adj Close     Volume\n",
            "Date                                ...                       \n",
            "2012-02-16  134.570007  136.169998  ...  112.336594  186567800\n",
            "2012-02-17  136.520004  136.630005  ...  112.633842  129869400\n",
            "2012-02-21  136.729996  137.050003  ...  112.683418  134042300\n",
            "2012-02-22  136.259995  136.550003  ...  112.320068  124455300\n",
            "2012-02-23  135.960007  136.729996  ...  112.815506  137704300\n",
            "...                ...         ...  ...         ...        ...\n",
            "2022-02-10  451.339996  457.709991  ...  449.320007  140103700\n",
            "2022-02-11  449.410004  451.609985  ...  440.459991  153064100\n",
            "2022-02-14  439.920013  441.600006  ...  439.019989  122062800\n",
            "2022-02-15  443.730011  446.279999  ...  446.100006   88482700\n",
            "2022-02-16  443.929993  444.809998  ...  443.312805   29471923\n",
            "\n",
            "[2518 rows x 6 columns]\n"
          ]
        }
      ]
    },
    {
      "cell_type": "code",
      "source": [
        "#min 30:49"
      ],
      "metadata": {
        "id": "DI1R1VfsOJRQ"
      },
      "execution_count": 14,
      "outputs": []
    },
    {
      "cell_type": "code",
      "source": [
        "# precios de cierre en un mismo dataframe\n",
        "\n",
        "fechas = precios[tickers[0]].index\n",
        "dataframe_cierre = pd.DataFrame(index=fechas)\n",
        "\n",
        "for ticker in tickers:\n",
        "  dataframe_cierre[ticker] = precios[ticker]['Close']\n",
        "\n",
        "#calculo de correlaciones\n",
        "\n",
        "correlations = dataframe_cierre.corr(method= 'pearson')\n",
        "\n",
        "import matplotlib.pyplot as plt\n",
        "fig, ax = plt.subplots()\n",
        "im = ax.imshow(correlations)"
      ],
      "metadata": {
        "id": "u8EQ7wztOJYC",
        "colab": {
          "base_uri": "https://localhost:8080/",
          "height": 265
        },
        "outputId": "604bcb09-9e8d-45f9-a6fc-a4b07247e4cf"
      },
      "execution_count": 44,
      "outputs": [
        {
          "output_type": "display_data",
          "data": {
            "image/png": "[encoded data removed]",
            "text/plain": [
              "<Figure size 432x288 with 1 Axes>"
            ]
          },
          "metadata": {
            "needs_background": "light"
          }
        }
      ]
    },
    {
      "cell_type": "code",
      "source": [
        "dataframe_cierre.to_excel('dataframe_cierre.xlsx')\n",
        "# se muestran los datos ordenados no como en csv que es un desastre"
      ],
      "metadata": {
        "id": "7KT5NBGNw9eC"
      },
      "execution_count": 20,
      "outputs": []
    },
    {
      "cell_type": "code",
      "source": [
        "correlations.to_excel('correlacion.xlsx')\n",
        "\n",
        "\n"
      ],
      "metadata": {
        "id": "N9kJe9ZTOJab"
      },
      "execution_count": 21,
      "outputs": []
    },
    {
      "cell_type": "code",
      "source": [
        "#plot\n",
        "\n",
        "import matplotlib.pyplot as plt\n",
        "fig, ax = plt.subplots()\n",
        "im = ax.imshow(correlations)\n",
        "# mostrar tickers\n",
        "ax.set_xticks(np.arange(len(tickers)))\n",
        "ax.set_yticks(np.arange(len(tickers)))\n",
        "\n",
        "#label\n",
        "ax.set_xticklabels(tickers)\n",
        "ax.set_yticklabels(tickers)\n",
        "\n",
        "# rotar tick label \n",
        "plt.setp(ax.get_xticklabels(), rotation=45, ha=\"right\",\n",
        "         rotation_mode=\"anchor\")\n",
        "\n",
        "#crear anotaciones de texto\n",
        "for i in range(len(tickers)):\n",
        "  for j in range(len(tickers)):\n",
        "    text= ax.text(j,i, round(correlations.loc[tickers[i]][tickers[j]],2),\n",
        "    ha=\"center\", va=\"center\", color=\"black\")\n",
        "ax.set_title(\"Mapa de Calor de Correlaciones\")\n",
        "fig.tight_layout()\n",
        "plt.show()\n"
      ],
      "metadata": {
        "colab": {
          "base_uri": "https://localhost:8080/",
          "height": 297
        },
        "id": "wrl7m7qGyRcY",
        "outputId": "95f10d0f-8fe3-469e-fe9f-0b0627f1ea1c"
      },
      "execution_count": 47,
      "outputs": [
        {
          "output_type": "display_data",
          "data": {
            "image/png": "[encoded data removed]",
            "text/plain": [
              "<Figure size 432x288 with 1 Axes>"
            ]
          },
          "metadata": {
            "needs_background": "light"
          }
        }
      ]
    },
    {
      "cell_type": "code",
      "source": [
        "correlations.to_excel('correlacion2.xlsx')"
      ],
      "metadata": {
        "id": "BsZBPTKF4_BF"
      },
      "execution_count": 46,
      "outputs": []
    },
    {
      "cell_type": "code",
      "source": [
        "#este grafico se entiende mejor...\n",
        "from seaborn.matrix import heatmap\n",
        "import seaborn as sns\n",
        "mask =np.triu(np.ones_like(correlations, dtype=bool))\n",
        "heatmap=sns.heatmap(correlations,mask=mask,vmin=-1,vmax=1,annot=True)"
      ],
      "metadata": {
        "colab": {
          "base_uri": "https://localhost:8080/",
          "height": 269
        },
        "id": "pKDTAsuUCaEL",
        "outputId": "e7824887-d2f0-492c-a1b3-d1ccb99d6b27"
      },
      "execution_count": 49,
      "outputs": [
        {
          "output_type": "display_data",
          "data": {
            "image/png": "[encoded data removed]",
            "text/plain": [
              "<Figure size 432x288 with 2 Axes>"
            ]
          },
          "metadata": {
            "needs_background": "light"
          }
        }
      ]
    },
    {
      "cell_type": "code",
      "source": [
        "#min35:45\n"
      ],
      "metadata": {
        "id": "BsqLYAwBEwj_"
      },
      "execution_count": 57,
      "outputs": []
    },
    {
      "cell_type": "code",
      "source": [
        "pip install requests"
      ],
      "metadata": {
        "colab": {
          "base_uri": "https://localhost:8080/"
        },
        "id": "yGFzAA-iMll1",
        "outputId": "e89ee9af-ee26-496e-eb3d-88ea37cc7aaf"
      },
      "execution_count": 56,
      "outputs": [
        {
          "output_type": "stream",
          "name": "stdout",
          "text": [
            "Requirement already satisfied: requests in /usr/local/lib/python3.7/dist-packages (2.27.1)\n",
            "Requirement already satisfied: certifi>=2017.4.17 in /usr/local/lib/python3.7/dist-packages (from requests) (2021.10.8)\n",
            "Requirement already satisfied: urllib3<1.27,>=1.21.1 in /usr/local/lib/python3.7/dist-packages (from requests) (1.24.3)\n",
            "Requirement already satisfied: charset-normalizer~=2.0.0 in /usr/local/lib/python3.7/dist-packages (from requests) (2.0.11)\n",
            "Requirement already satisfied: idna<4,>=2.5 in /usr/local/lib/python3.7/dist-packages (from requests) (2.10)\n"
          ]
        }
      ]
    },
    {
      "cell_type": "code",
      "source": [
        "import requests\n",
        "URL_API ='https://test-algobalanz.herokuapp.com/api/v1/prices'\n",
        "URL_API_AND = 'https://test-algobalanz.herokuapp.com/api/v1/prices/security_id'\n",
        "\n",
        "req= requests.get(URL_API)\n",
        "req_json= req.json()\n"
      ],
      "metadata": {
        "id": "Q7b6nZTcEztg"
      },
      "execution_count": 105,
      "outputs": []
    },
    {
      "cell_type": "code",
      "source": [
        "req_json"
      ],
      "metadata": {
        "colab": {
          "base_uri": "https://localhost:8080/"
        },
        "id": "QWsZagcOON1Z",
        "outputId": "044555fa-ea1f-4ea4-9d29-e9cd9b21123c"
      },
      "execution_count": 106,
      "outputs": [
        {
          "output_type": "execute_result",
          "data": {
            "text/plain": [
              "{'AL30-0001-C-CT-ARS': {'Bid': [5680.0, 5603.0, 5600.0, 5598.0, 5580.0],\n",
              "  'BidSize': [5102.0, 1233.0, 9976.0, 1440.0, 3049.0],\n",
              "  'Offer': [5750.0, 5799.0, 5822.0, 5900.0, 6090.0],\n",
              "  'OfferSize': [1000.0, 254.0, 21500.0, 16.0, 1000.0],\n",
              "  'currency': 'ARS',\n",
              "  'last': {'price': 0.0, 'size': 0, 'time': ''},\n",
              "  'mdReqID': 'MD-20210702-262120',\n",
              "  'securityID': 'AL30-0001-C-CT-ARS',\n",
              "  'settlementType': 'CI',\n",
              "  'symbol': 'AL30',\n",
              "  'tradeVolume': {'price': -1.0, 'size': -1, 'time': ''},\n",
              "  'underlying': None},\n",
              " 'AL30-0002-C-CT-ARS': {'Bid': [5581.0, 5580.0, -1.0, -1.0, -1.0],\n",
              "  'BidSize': [55177.0, 100000.0, -1, -1, -1],\n",
              "  'Offer': [5600.0, 5998.0, -1.0, -1.0, -1.0],\n",
              "  'OfferSize': [150.0, 15000.0, -1, -1, -1],\n",
              "  'currency': 'ARS',\n",
              "  'last': {'price': 0.0, 'size': 0, 'time': ''},\n",
              "  'mdReqID': 'MD-20210702-262341',\n",
              "  'securityID': 'AL30-0002-C-CT-ARS',\n",
              "  'settlementType': '24hs',\n",
              "  'symbol': 'AL30',\n",
              "  'tradeVolume': {'price': -1.0, 'size': -1, 'time': ''},\n",
              "  'underlying': None},\n",
              " 'AL30-0003-C-CT-ARS': {'Bid': [5680.0, 5650.0, 5630.0, 5615.0, 5613.0],\n",
              "  'BidSize': [21927.0, 28447.0, 4265.0, 2920.0, 268.0],\n",
              "  'Offer': [5550.0, 5580.0, 5590.0, 5603.0, 5784.0],\n",
              "  'OfferSize': [22360.0, 438.0, 2.0, 31.0, 20000.0],\n",
              "  'currency': 'ARS',\n",
              "  'last': {'price': 0.0, 'size': 0, 'time': ''},\n",
              "  'mdReqID': 'MD-20210702-262382',\n",
              "  'securityID': 'AL30-0003-C-CT-ARS',\n",
              "  'settlementType': '48hs',\n",
              "  'symbol': 'AL30',\n",
              "  'tradeVolume': {'price': -1.0, 'size': -1, 'time': ''},\n",
              "  'underlying': None},\n",
              " 'AL30C-0003-C-CT-EXT': {'Bid': [33.1, -1.0, -1.0, -1.0, -1.0],\n",
              "  'BidSize': [200000.0, -1, -1, -1, -1],\n",
              "  'Offer': [33.66, 33.9, 34.0, 34.42, 34.66],\n",
              "  'OfferSize': [1900.0, 16700.0, 1765.0, 14600.0, 14600.0],\n",
              "  'currency': 'EXT',\n",
              "  'last': {'price': 0.0, 'size': 0, 'time': ''},\n",
              "  'mdReqID': 'MD-20210702-262561',\n",
              "  'securityID': 'AL30C-0003-C-CT-EXT',\n",
              "  'settlementType': '48hs',\n",
              "  'symbol': 'AL30C',\n",
              "  'tradeVolume': {'price': -1.0, 'size': -1, 'time': ''},\n",
              "  'underlying': None},\n",
              " 'AL30D-0001-C-CT-USD': {'Bid': [33.59, 33.5, 33.25, 20.0, 10.0],\n",
              "  'BidSize': [55000.0, 1000.0, 2953.0, 917300.0, 900000.0],\n",
              "  'Offer': [33.6, 33.7, 33.72, 33.8, 33.81],\n",
              "  'OfferSize': [22045.0, 4408.0, 86000.0, 14377.0, 3214.0],\n",
              "  'currency': 'USD',\n",
              "  'last': {'price': 0.0, 'size': 0, 'time': ''},\n",
              "  'mdReqID': 'MD-20210702-262179',\n",
              "  'securityID': 'AL30D-0001-C-CT-USD',\n",
              "  'settlementType': 'CI',\n",
              "  'symbol': 'AL30D',\n",
              "  'tradeVolume': {'price': -1.0, 'size': -1, 'time': ''},\n",
              "  'underlying': None},\n",
              " 'AL30D-0003-C-CT-USD': {'Bid': [34.0, 33.85, 33.8, 33.75, 33.61],\n",
              "  'BidSize': [25000.0, 13.0, 7396.0, 3000.0, 15000.0],\n",
              "  'Offer': [33.3, 33.4, 33.5, 33.55, 33.6],\n",
              "  'OfferSize': [2001.0, 1473.0, 8100.0, 500.0, 20508.0],\n",
              "  'currency': 'USD',\n",
              "  'last': {'price': 0.0, 'size': 0, 'time': ''},\n",
              "  'mdReqID': 'MD-20210702-262613',\n",
              "  'securityID': 'AL30D-0003-C-CT-USD',\n",
              "  'settlementType': '48hs',\n",
              "  'symbol': 'AL30D',\n",
              "  'tradeVolume': {'price': -1.0, 'size': -1, 'time': ''},\n",
              "  'underlying': None},\n",
              " 'GD30-0001-C-CT-ARS': {'Bid': [6295.0, 6210.0, 6180.0, 6160.0, -1.0],\n",
              "  'BidSize': [56.0, 23343.0, 25000.0, 3231.0, -1],\n",
              "  'Offer': [6315.0, 6320.0, 6350.0, -1.0, -1.0],\n",
              "  'OfferSize': [8500.0, 12000.0, 30000.0, -1, -1],\n",
              "  'currency': 'ARS',\n",
              "  'last': {'price': 0.0, 'size': 0, 'time': ''},\n",
              "  'mdReqID': 'MD-20210702-262525',\n",
              "  'securityID': 'GD30-0001-C-CT-ARS',\n",
              "  'settlementType': 'CI',\n",
              "  'symbol': 'GD30',\n",
              "  'tradeVolume': {'price': -1.0, 'size': -1, 'time': ''},\n",
              "  'underlying': None},\n",
              " 'GD30-0003-C-CT-ARS': {'Bid': [6245.0, 6230.0, 6200.0, 6195.0, 6185.0],\n",
              "  'BidSize': [7000.0, 150.0, 100.0, 100.0, 1.0],\n",
              "  'Offer': [6400.0, 6895.0, -1.0, -1.0, -1.0],\n",
              "  'OfferSize': [50000.0, 512.0, -1, -1, -1],\n",
              "  'currency': 'ARS',\n",
              "  'last': {'price': 0.0, 'size': 0, 'time': ''},\n",
              "  'mdReqID': 'MD-20210702-262060',\n",
              "  'securityID': 'GD30-0003-C-CT-ARS',\n",
              "  'settlementType': '48hs',\n",
              "  'symbol': 'GD30',\n",
              "  'tradeVolume': {'price': -1.0, 'size': -1, 'time': ''},\n",
              "  'underlying': None},\n",
              " 'GD30C-0001-C-CT-EXT': {'Bid': [34.01, -1.0, -1.0, -1.0, -1.0],\n",
              "  'BidSize': [7750.0, -1, -1, -1, -1],\n",
              "  'Offer': [-1.0, -1.0, -1.0, -1.0, -1.0],\n",
              "  'OfferSize': [-1, -1, -1, -1, -1],\n",
              "  'currency': 'EXT',\n",
              "  'last': {'price': 0.0, 'size': 0, 'time': ''},\n",
              "  'mdReqID': 'MD-20210702-262582',\n",
              "  'securityID': 'GD30C-0001-C-CT-EXT',\n",
              "  'settlementType': 'CI',\n",
              "  'symbol': 'GD30C',\n",
              "  'tradeVolume': {'price': -1.0, 'size': -1, 'time': ''},\n",
              "  'underlying': None},\n",
              " 'GD30C-0003-C-CT-EXT': {'Bid': [36.57, 36.0, -1.0, -1.0, -1.0],\n",
              "  'BidSize': [51.0, 3700.0, -1, -1, -1],\n",
              "  'Offer': [39.1, 39.3, 41.0, -1.0, -1.0],\n",
              "  'OfferSize': [638.0, 380.0, 14.0, -1, -1],\n",
              "  'currency': 'EXT',\n",
              "  'last': {'price': 0.0, 'size': 0, 'time': ''},\n",
              "  'mdReqID': 'MD-20210702-262327',\n",
              "  'securityID': 'GD30C-0003-C-CT-EXT',\n",
              "  'settlementType': '48hs',\n",
              "  'symbol': 'GD30C',\n",
              "  'tradeVolume': {'price': -1.0, 'size': -1, 'time': ''},\n",
              "  'underlying': None},\n",
              " 'GD30D-0001-C-CT-USD': {'Bid': [38.0, 37.0, -1.0, -1.0, -1.0],\n",
              "  'BidSize': [217.0, 50000.0, -1, -1, -1],\n",
              "  'Offer': [38.05, 38.3, 41.0, -1.0, -1.0],\n",
              "  'OfferSize': [24076.0, 2250.0, 5030.0, -1, -1],\n",
              "  'currency': 'USD',\n",
              "  'last': {'price': 0.0, 'size': 0, 'time': ''},\n",
              "  'mdReqID': 'MD-20210702-262457',\n",
              "  'securityID': 'GD30D-0001-C-CT-USD',\n",
              "  'settlementType': 'CI',\n",
              "  'symbol': 'GD30D',\n",
              "  'tradeVolume': {'price': -1.0, 'size': -1, 'time': ''},\n",
              "  'underlying': None},\n",
              " 'GD30D-0003-C-CT-USD': {'Bid': [37.05, 37.0, 36.75, 36.5, 36.05],\n",
              "  'BidSize': [1000.0, 50000.0, 20.0, 362.0, 439.0],\n",
              "  'Offer': [37.05, 37.75, 42.0, 42.9, 43.5],\n",
              "  'OfferSize': [809.0, 5440.0, 20.0, 36.0, 2506.0],\n",
              "  'currency': 'USD',\n",
              "  'last': {'price': 0.0, 'size': 0, 'time': ''},\n",
              "  'mdReqID': 'MD-20210702-261920',\n",
              "  'securityID': 'GD30D-0003-C-CT-USD',\n",
              "  'settlementType': '48hs',\n",
              "  'symbol': 'GD30D',\n",
              "  'tradeVolume': {'price': -1.0, 'size': -1, 'time': ''},\n",
              "  'underlying': None}}"
            ]
          },
          "metadata": {},
          "execution_count": 106
        }
      ]
    },
    {
      "cell_type": "code",
      "source": [
        "                #ticker-plazo-moneda\n",
        "print(req_json['AL30-0002-C-CT-ARS'])\n",
        "\n"
      ],
      "metadata": {
        "colab": {
          "base_uri": "https://localhost:8080/"
        },
        "id": "zOgu2i3mEz0_",
        "outputId": "15bdf0a0-2bc9-4962-9e42-e53bbd623324"
      },
      "execution_count": 68,
      "outputs": [
        {
          "output_type": "stream",
          "name": "stdout",
          "text": [
            "{'securityID': 'AL30-0002-C-CT-ARS', 'mdReqID': 'MD-20210702-262341', 'currency': 'ARS', 'symbol': 'AL30', 'Bid': [5580.0, -1.0, -1.0, -1.0, -1.0], 'BidSize': [100000.0, -1, -1, -1, -1], 'Offer': [5680.0, 5998.0, -1.0, -1.0, -1.0], 'OfferSize': [2000.0, 15000.0, -1, -1, -1], 'last': {'price': 0.0, 'size': 0, 'time': ''}, 'underlying': None, 'tradeVolume': {'price': -1.0, 'size': -1, 'time': ''}, 'settlementType': '24hs'}\n"
          ]
        }
      ]
    },
    {
      "cell_type": "code",
      "source": [
        "# IDENTIFICAR ESPECIES : FUNCIONES\n",
        "\n",
        "def ConstruirIdentificador(ticker,plazo,moneda):\n",
        "#plazo\n",
        "  if plazo == 'CI':\n",
        "    pl='0001'\n",
        "  elif plazo == '24hs':\n",
        "    pl='0002'\n",
        "  elif plazo == '48hs':\n",
        "    pl='0003'\n",
        "#moneda\n",
        "  if moneda == 'USD':\n",
        "    ticker=ticker+'D'\n",
        "  elif moneda == 'EXT':\n",
        "    ticker=ticker+'C'\n",
        "  string_id = ticker+'-'+pl+'-C-CT-'+moneda\n",
        "  return string_id\n"
      ],
      "metadata": {
        "id": "H7qS8UE4Ez61"
      },
      "execution_count": 94,
      "outputs": []
    },
    {
      "cell_type": "code",
      "source": [
        "#construimos los strings\n",
        "AL30_T2 = ConstruirIdentificador('AL30','48hs','ARS')\n",
        "AL30D_T2 = ConstruirIdentificador('AL30','48hs','USD')\n",
        "AL30C_T2 = ConstruirIdentificador('AL30','48hs','EXT')"
      ],
      "metadata": {
        "id": "H5fTiRXOEz_G"
      },
      "execution_count": 107,
      "outputs": []
    },
    {
      "cell_type": "code",
      "source": [
        "print(req_json[AL30D_T2])"
      ],
      "metadata": {
        "colab": {
          "base_uri": "https://localhost:8080/"
        },
        "id": "WxeRmmYbTi1Q",
        "outputId": "42444709-5791-4995-c695-2311a62fddf8"
      },
      "execution_count": 108,
      "outputs": [
        {
          "output_type": "stream",
          "name": "stdout",
          "text": [
            "{'securityID': 'AL30D-0003-C-CT-USD', 'mdReqID': 'MD-20210702-262613', 'currency': 'USD', 'symbol': 'AL30D', 'Bid': [34.0, 33.85, 33.8, 33.75, 33.61], 'BidSize': [25000.0, 13.0, 7396.0, 3000.0, 15000.0], 'Offer': [33.3, 33.4, 33.5, 33.55, 33.6], 'OfferSize': [2001.0, 1473.0, 8100.0, 500.0, 20508.0], 'last': {'price': 0.0, 'size': 0, 'time': ''}, 'underlying': None, 'tradeVolume': {'price': -1.0, 'size': -1, 'time': ''}, 'settlementType': '48hs'}\n"
          ]
        }
      ]
    },
    {
      "cell_type": "code",
      "source": [
        "#ACCEDER AL PRECIO DE LAS PUNTAS\n",
        "ask_pesos = req_json[AL30_T2]['Bid'][0]\n",
        "bid_usd = req_json[AL30D_T2]['Offer'][0]\n",
        "bid_ccl = req_json[AL30C_T2]['Offer'][0]"
      ],
      "metadata": {
        "id": "yFo678m8VeBh"
      },
      "execution_count": 110,
      "outputs": []
    },
    {
      "cell_type": "code",
      "source": [
        "#calculo\n",
        "\n",
        "DOLAR_MEP = ask_pesos/bid_usd\n",
        "DOLAR_CCL = ask_pesos/bid_ccl\n",
        "print (f\" Dolar MEP: {round(DOLAR_MEP,2)} | Dolar CCL: {round(DOLAR_CCL,2)}\")"
      ],
      "metadata": {
        "colab": {
          "base_uri": "https://localhost:8080/"
        },
        "id": "JpMj4GrPVeLR",
        "outputId": "73dc87db-100a-4def-db19-875dc7982693"
      },
      "execution_count": 113,
      "outputs": [
        {
          "output_type": "stream",
          "name": "stdout",
          "text": [
            " Dolar MEP: 170.57 | Dolar CCL: 168.75\n"
          ]
        }
      ]
    },
    {
      "cell_type": "code",
      "source": [
        "pip install teepy"
      ],
      "metadata": {
        "colab": {
          "base_uri": "https://localhost:8080/",
          "height": 922
        },
        "id": "XqPUmpH-VeRX",
        "outputId": "21edfa7a-afb9-40dd-bb33-601f2e21998c"
      },
      "execution_count": 114,
      "outputs": [
        {
          "output_type": "stream",
          "name": "stdout",
          "text": [
            "Collecting teepy\n",
            "  Downloading teepy-0.3.6.tar.gz (56 kB)\n",
            "\u001b[K     |████████████████████████████████| 56 kB 3.5 MB/s \n",
            "\u001b[?25hRequirement already satisfied: beautifulsoup4 in /usr/local/lib/python3.7/dist-packages (from teepy) (4.6.3)\n",
            "Collecting cefpython3\n",
            "  Downloading cefpython3-66.0-py2.py3-none-manylinux1_x86_64.whl (79.6 MB)\n",
            "\u001b[K     |████████████████████████████████| 79.6 MB 5.9 kB/s \n",
            "\u001b[?25hCollecting pint\n",
            "  Downloading Pint-0.18-py2.py3-none-any.whl (209 kB)\n",
            "\u001b[K     |████████████████████████████████| 209 kB 53.1 MB/s \n",
            "\u001b[?25hCollecting pyppeteer\n",
            "  Downloading pyppeteer-1.0.2-py3-none-any.whl (83 kB)\n",
            "\u001b[K     |████████████████████████████████| 83 kB 1.6 MB/s \n",
            "\u001b[?25hCollecting xlsxwriter\n",
            "  Downloading XlsxWriter-3.0.2-py3-none-any.whl (149 kB)\n",
            "\u001b[K     |████████████████████████████████| 149 kB 47.3 MB/s \n",
            "\u001b[?25hRequirement already satisfied: packaging in /usr/local/lib/python3.7/dist-packages (from pint->teepy) (21.3)\n",
            "Requirement already satisfied: importlib-metadata in /usr/local/lib/python3.7/dist-packages (from pint->teepy) (4.11.0)\n",
            "Requirement already satisfied: zipp>=0.5 in /usr/local/lib/python3.7/dist-packages (from importlib-metadata->pint->teepy) (3.7.0)\n",
            "Requirement already satisfied: typing-extensions>=3.6.4 in /usr/local/lib/python3.7/dist-packages (from importlib-metadata->pint->teepy) (3.10.0.2)\n",
            "Requirement already satisfied: pyparsing!=3.0.5,>=2.0.2 in /usr/local/lib/python3.7/dist-packages (from packaging->pint->teepy) (3.0.7)\n",
            "Collecting pyee<9.0.0,>=8.1.0\n",
            "  Downloading pyee-8.2.2-py2.py3-none-any.whl (12 kB)\n",
            "Collecting urllib3<2.0.0,>=1.25.8\n",
            "  Downloading urllib3-1.26.8-py2.py3-none-any.whl (138 kB)\n",
            "\u001b[K     |████████████████████████████████| 138 kB 53.6 MB/s \n",
            "\u001b[?25hCollecting websockets<11.0,>=10.0\n",
            "  Downloading websockets-10.1-cp37-cp37m-manylinux_2_5_x86_64.manylinux1_x86_64.manylinux_2_12_x86_64.manylinux2010_x86_64.whl (111 kB)\n",
            "\u001b[K     |████████████████████████████████| 111 kB 52.3 MB/s \n",
            "\u001b[?25hRequirement already satisfied: tqdm<5.0.0,>=4.42.1 in /usr/local/lib/python3.7/dist-packages (from pyppeteer->teepy) (4.62.3)\n",
            "Requirement already satisfied: certifi>=2021 in /usr/local/lib/python3.7/dist-packages (from pyppeteer->teepy) (2021.10.8)\n",
            "Requirement already satisfied: appdirs<2.0.0,>=1.4.3 in /usr/local/lib/python3.7/dist-packages (from pyppeteer->teepy) (1.4.4)\n",
            "Building wheels for collected packages: teepy\n",
            "  Building wheel for teepy (setup.py) ... \u001b[?25l\u001b[?25hdone\n",
            "  Created wheel for teepy: filename=teepy-0.3.6-py3-none-any.whl size=56743 sha256=87b0d6329daad1b7ad62f6ede0a8a446f615921130dd11b7eee267652dc98f2b\n",
            "  Stored in directory: /root/.cache/pip/wheels/47/47/99/d08c468bd4ce37c024b10313dd091564831a4f6fdfc0af229b\n",
            "Successfully built teepy\n",
            "Installing collected packages: websockets, urllib3, pyee, xlsxwriter, pyppeteer, pint, cefpython3, teepy\n",
            "  Attempting uninstall: urllib3\n",
            "    Found existing installation: urllib3 1.24.3\n",
            "    Uninstalling urllib3-1.24.3:\n",
            "      Successfully uninstalled urllib3-1.24.3\n",
            "\u001b[31mERROR: pip's dependency resolver does not currently take into account all the packages that are installed. This behaviour is the source of the following dependency conflicts.\n",
            "google-colab 1.0.0 requires requests~=2.23.0, but you have requests 2.27.1 which is incompatible.\n",
            "datascience 0.10.6 requires folium==0.2.1, but you have folium 0.8.3 which is incompatible.\u001b[0m\n",
            "Successfully installed cefpython3-66.0 pint-0.18 pyee-8.2.2 pyppeteer-1.0.2 teepy-0.3.6 urllib3-1.26.8 websockets-10.1 xlsxwriter-3.0.2\n"
          ]
        },
        {
          "output_type": "display_data",
          "data": {
            "application/vnd.colab-display-data+json": {
              "pip_warning": {
                "packages": [
                  "urllib3"
                ]
              }
            }
          },
          "metadata": {}
        }
      ]
    },
    {
      "cell_type": "code",
      "source": [
        "# BOT PARA TWITTER\n",
        "\n"
      ],
      "metadata": {
        "id": "N0Nld0KQVeON"
      },
      "execution_count": null,
      "outputs": []
    },
    {
      "cell_type": "code",
      "source": [
        ""
      ],
      "metadata": {
        "id": "CyPFmZ8lVeUf"
      },
      "execution_count": null,
      "outputs": []
    },
    {
      "cell_type": "code",
      "source": [
        ""
      ],
      "metadata": {
        "id": "4gqJzwt0VeXy"
      },
      "execution_count": null,
      "outputs": []
    }
  ]
}