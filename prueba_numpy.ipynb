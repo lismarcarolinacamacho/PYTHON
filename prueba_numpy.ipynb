{
  "nbformat": 4,
  "nbformat_minor": 0,
  "metadata": {
    "colab": {
      "name": "prueba numpy.ipynb",
      "provenance": [],
      "collapsed_sections": [],
      "authorship_tag": "ABX9TyPBheFJ+g+6pBvGb7l/5k4Q",
      "include_colab_link": true
    },
    "kernelspec": {
      "name": "python3",
      "display_name": "Python 3"
    },
    "language_info": {
      "name": "python"
    }
  },
  "cells": [
    {
      "cell_type": "markdown",
      "metadata": {
        "id": "view-in-github",
        "colab_type": "text"
      },
      "source": [
        "<a href=\"https://colab.research.google.com/github/lismarcarolinacamacho/PYTHON-tkinter/blob/main/prueba_numpy.ipynb\" target=\"_parent\"><img src=\"https://colab.research.google.com/assets/colab-badge.svg\" alt=\"Open In Colab\"/></a>"
      ]
    },
    {
      "cell_type": "code",
      "metadata": {
        "id": "RRYHrTSxcLU3"
      },
      "source": [
        "import numpy as np"
      ],
      "execution_count": null,
      "outputs": []
    },
    {
      "cell_type": "code",
      "metadata": {
        "colab": {
          "base_uri": "https://localhost:8080/"
        },
        "id": "4BUnsZ9-fAub",
        "outputId": "6905ad23-0a0b-4d6d-ee71-a457f1a63d15"
      },
      "source": [
        "array = np.array([[1,2,3,4],[5,6,7,8]], dtype=np.int64)\n",
        "print(array)"
      ],
      "execution_count": null,
      "outputs": [
        {
          "output_type": "stream",
          "name": "stdout",
          "text": [
            "[[1 2 3 4]\n",
            " [5 6 7 8]]\n"
          ]
        }
      ]
    },
    {
      "cell_type": "markdown",
      "metadata": {
        "id": "sS8TYTKZhtL2"
      },
      "source": [
        "**matrices vacias**"
      ]
    },
    {
      "cell_type": "code",
      "metadata": {
        "colab": {
          "base_uri": "https://localhost:8080/"
        },
        "id": "WbGQWAq_hu9o",
        "outputId": "9379324d-cafc-4e7c-e368-dd21cc5c536b"
      },
      "source": [
        "espacio1 = np.arange(0,40,5)\n",
        "print(espacio1)"
      ],
      "execution_count": null,
      "outputs": [
        {
          "output_type": "stream",
          "name": "stdout",
          "text": [
            "[ 0  5 10 15 20 25 30 35]\n"
          ]
        }
      ]
    },
    {
      "cell_type": "code",
      "metadata": {
        "colab": {
          "base_uri": "https://localhost:8080/"
        },
        "id": "CXoz9GRhiIjO",
        "outputId": "735b09c6-5874-4fa8-ba86-3047fe54a97c"
      },
      "source": [
        "espacio2 = np.arange(0,50,2)\n",
        "print(espacio2)"
      ],
      "execution_count": null,
      "outputs": [
        {
          "output_type": "stream",
          "name": "stdout",
          "text": [
            "[ 0  2  4  6  8 10 12 14 16 18 20 22 24 26 28 30 32 34 36 38 40 42 44 46\n",
            " 48]\n"
          ]
        }
      ]
    },
    {
      "cell_type": "markdown",
      "metadata": {
        "id": "XBUgxvyKiwQu"
      },
      "source": [
        "**matriz de identidad**"
      ]
    },
    {
      "cell_type": "code",
      "metadata": {
        "colab": {
          "base_uri": "https://localhost:8080/"
        },
        "id": "aHijW7ariIrd",
        "outputId": "35c9c398-08a4-47ef-dcd1-d91ea1219fe7"
      },
      "source": [
        "identidad1 = np.eye(4,4)\n",
        "print(identidad1)"
      ],
      "execution_count": null,
      "outputs": [
        {
          "output_type": "stream",
          "name": "stdout",
          "text": [
            "[[1. 0. 0. 0.]\n",
            " [0. 1. 0. 0.]\n",
            " [0. 0. 1. 0.]\n",
            " [0. 0. 0. 1.]]\n"
          ]
        }
      ]
    },
    {
      "cell_type": "code",
      "metadata": {
        "colab": {
          "base_uri": "https://localhost:8080/"
        },
        "id": "F2gkUTAxiIuk",
        "outputId": "e31d5916-2c5f-41c9-ef3d-c50852062b72"
      },
      "source": [
        "identidad2 = np.identity(4)\n",
        "print(identidad2)"
      ],
      "execution_count": null,
      "outputs": [
        {
          "output_type": "stream",
          "name": "stdout",
          "text": [
            "[[1. 0. 0. 0.]\n",
            " [0. 1. 0. 0.]\n",
            " [0. 0. 1. 0.]\n",
            " [0. 0. 0. 1.]]\n"
          ]
        }
      ]
    },
    {
      "cell_type": "markdown",
      "metadata": {
        "id": "Rk3c1zxxjZ-F"
      },
      "source": [
        "**inspeccionar matrices**"
      ]
    },
    {
      "cell_type": "code",
      "metadata": {
        "colab": {
          "base_uri": "https://localhost:8080/"
        },
        "id": "thKWgDH0iIxm",
        "outputId": "a32507b0-13e9-4461-d421-508da3630e4b"
      },
      "source": [
        "a = np.array([(1,2,3,4,5,6)])\n",
        "print(a.size) # tamaño del array\n",
        "print(a.shape)\n",
        "#shape :rango\n",
        " "
      ],
      "execution_count": null,
      "outputs": [
        {
          "output_type": "stream",
          "name": "stdout",
          "text": [
            "6\n",
            "(1, 6)\n"
          ]
        }
      ]
    },
    {
      "cell_type": "markdown",
      "metadata": {
        "id": "s4WSEKLlkNkP"
      },
      "source": [
        "cambio de tamaño y forma de matrices"
      ]
    },
    {
      "cell_type": "code",
      "metadata": {
        "colab": {
          "base_uri": "https://localhost:8080/"
        },
        "id": "rqiLzNl5iI1Z",
        "outputId": "e85f0cef-4297-4637-f3a0-107ef4f2c625"
      },
      "source": [
        "#extraer un solo valor de la matriz - el valor ubicado en la fila 0 de la columna 2\n",
        "\n",
        "a =np.array([(1,2,3,4),(3,4,5,6)])\n",
        "print(a[0,2])"
      ],
      "execution_count": null,
      "outputs": [
        {
          "output_type": "stream",
          "name": "stdout",
          "text": [
            "3\n"
          ]
        }
      ]
    },
    {
      "cell_type": "code",
      "metadata": {
        "colab": {
          "base_uri": "https://localhost:8080/"
        },
        "id": "Yno7JPIViI4R",
        "outputId": "5860bdc4-4f0b-4154-8fa4-f2d91f9f0636"
      },
      "source": [
        "#extrraer todos los valores de las filas ubicadas en la columna 3 \n",
        "a = np.array([(1,2,3,4),(3,4,5,6)])\n",
        "print(a[0:,3])"
      ],
      "execution_count": null,
      "outputs": [
        {
          "output_type": "stream",
          "name": "stdout",
          "text": [
            "[4 6]\n"
          ]
        }
      ]
    },
    {
      "cell_type": "markdown",
      "metadata": {
        "id": "7aHO3CeQmY7J"
      },
      "source": [
        "**operaciones matematicas**"
      ]
    },
    {
      "cell_type": "code",
      "metadata": {
        "colab": {
          "base_uri": "https://localhost:8080/"
        },
        "id": "aMY1nTqCiI-M",
        "outputId": "e0121f79-63ca-4408-bbd8-727cc480814b"
      },
      "source": [
        "#minimo , maximo, suma\n",
        "\n",
        "a = np.array([1,2,3,4])\n",
        "print(a.max())\n",
        "print(a.min())\n",
        "print(a.sum())"
      ],
      "execution_count": null,
      "outputs": [
        {
          "output_type": "stream",
          "name": "stdout",
          "text": [
            "4\n",
            "1\n",
            "10\n"
          ]
        }
      ]
    },
    {
      "cell_type": "code",
      "metadata": {
        "colab": {
          "base_uri": "https://localhost:8080/"
        },
        "id": "mcLkfrz9nAAs",
        "outputId": "4be92bd4-0d7a-4f4e-8c25-56889e50dd0c"
      },
      "source": [
        "# raiz cudrada y desviacion estandar\n",
        "\n",
        "a = np.array([(1,2,3,4),(3,4,5,6)])\n",
        "print(np.sqrt(a))\n",
        "print(np.std(a))"
      ],
      "execution_count": null,
      "outputs": [
        {
          "output_type": "stream",
          "name": "stdout",
          "text": [
            "[[1.         1.41421356 1.73205081 2.        ]\n",
            " [1.73205081 2.         2.23606798 2.44948974]]\n",
            "1.5\n"
          ]
        }
      ]
    },
    {
      "cell_type": "code",
      "metadata": {
        "colab": {
          "base_uri": "https://localhost:8080/"
        },
        "id": "TRlC07QlnAI8",
        "outputId": "2db3816d-d619-4458-8e8d-43fd4fd03e2b"
      },
      "source": [
        "x = np.array([(1,2,3,4),(3,4,5,6)])\n",
        "y = np.array([(1,2,3,4),(3,4,5,6)])\n",
        "\n",
        "print(x+y)\n",
        "print(x-y)\n",
        "print(x*y)\n",
        "print(x/y)"
      ],
      "execution_count": null,
      "outputs": [
        {
          "output_type": "stream",
          "name": "stdout",
          "text": [
            "[[ 2  4  6  8]\n",
            " [ 6  8 10 12]]\n",
            "[[0 0 0 0]\n",
            " [0 0 0 0]]\n",
            "[[ 1  4  9 16]\n",
            " [ 9 16 25 36]]\n",
            "[[1. 1. 1. 1.]\n",
            " [1. 1. 1. 1.]]\n"
          ]
        }
      ]
    },
    {
      "cell_type": "code",
      "metadata": {
        "id": "V-6JFCT-nAMF"
      },
      "source": [
        ""
      ],
      "execution_count": null,
      "outputs": []
    },
    {
      "cell_type": "code",
      "metadata": {
        "id": "N9koMkrbnAPT"
      },
      "source": [
        ""
      ],
      "execution_count": null,
      "outputs": []
    }
  ]
}