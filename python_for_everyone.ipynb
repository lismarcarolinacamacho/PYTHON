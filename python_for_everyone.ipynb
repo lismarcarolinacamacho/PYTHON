{
  "nbformat": 4,
  "nbformat_minor": 0,
  "metadata": {
    "colab": {
      "name": "python for everyone.ipynb",
      "provenance": [],
      "authorship_tag": "ABX9TyPUXpZBZXuCLwTgPdORLbGe",
      "include_colab_link": true
    },
    "kernelspec": {
      "name": "python3",
      "display_name": "Python 3"
    },
    "language_info": {
      "name": "python"
    }
  },
  "cells": [
    {
      "cell_type": "markdown",
      "metadata": {
        "id": "view-in-github",
        "colab_type": "text"
      },
      "source": [
        "<a href=\"https://colab.research.google.com/github/lismarcarolinacamacho/PYTHON/blob/main/python_for_everyone.ipynb\" target=\"_parent\"><img src=\"https://colab.research.google.com/assets/colab-badge.svg\" alt=\"Open In Colab\"/></a>"
      ]
    },
    {
      "cell_type": "markdown",
      "source": [
        "#More Conditional Structures"
      ],
      "metadata": {
        "id": "z_u-coV7LIZy"
      }
    },
    {
      "cell_type": "markdown",
      "source": [
        "##if / else  . FOR"
      ],
      "metadata": {
        "id": "wPyvvjpxOWD5"
      }
    },
    {
      "cell_type": "code",
      "execution_count": null,
      "metadata": {
        "colab": {
          "base_uri": "https://localhost:8080/"
        },
        "id": "D1KMGvqZLFc0",
        "outputId": "197406b7-e60a-40cd-c175-3d73bc2c9977"
      },
      "outputs": [
        {
          "output_type": "stream",
          "name": "stdout",
          "text": [
            "Ingrese valor de x: -1\n",
            "Smaller than 2\n",
            " Done with 2\n",
            "0\n",
            " Done with  0\n",
            "1\n",
            " Done with  1\n",
            "2\n",
            " Done with  2\n",
            "3\n",
            "Bigger than 2\n",
            " Done with  3\n",
            "4\n",
            "Bigger than 2\n",
            " Done with  4\n",
            " ALL Done\n"
          ]
        }
      ],
      "source": [
        "x=input(\"Ingrese valor de x: \")\n",
        "xx=int(x) # convirtiendo la cadena de caracteres a entero\n",
        "if xx > 2:\n",
        "  print(\"Bigger than 2\")\n",
        "if xx == 2:\n",
        "  print(\"ITS Eqqual\")\n",
        "if xx <2:\n",
        "  print(\"Smaller than 2\")\n",
        "\n",
        "print(\" Done with 2\")\n",
        "\n",
        "for i in range(5):\n",
        "  print(i)\n",
        "  if i>2:\n",
        "    print(\"Bigger than 2\")\n",
        "  print(' Done with ',i)\n",
        "print(\" ALL Done\")"
      ]
    },
    {
      "cell_type": "markdown",
      "source": [
        "# elif"
      ],
      "metadata": {
        "id": "-ZYYYWUzVwZP"
      }
    },
    {
      "cell_type": "code",
      "source": [
        "x=3\n",
        "if x<2:\n",
        "  print('Small')\n",
        "elif x<10:\n",
        "  print('Medium')\n",
        "else:\n",
        "  print('LARGE')\n",
        "print('DONE')\n"
      ],
      "metadata": {
        "colab": {
          "base_uri": "https://localhost:8080/"
        },
        "id": "B-CBqiylV4xi",
        "outputId": "064d0908-1bea-4d58-c6ee-4e6422bb3774"
      },
      "execution_count": 2,
      "outputs": [
        {
          "output_type": "stream",
          "name": "stdout",
          "text": [
            "Medium\n",
            "DONE\n"
          ]
        }
      ]
    },
    {
      "cell_type": "code",
      "source": [
        "x=200\n",
        "if x<2:\n",
        "  print('Small')\n",
        "elif x<10:\n",
        "  print('Medium')\n",
        "elif x<20:\n",
        "  print('Big')\n",
        "elif x<40:\n",
        "  print('Large')\n",
        "elif x<100:\n",
        "  print('Huge') \n",
        "else:\n",
        "  print('Ginormus') \n",
        "print('DONE')"
      ],
      "metadata": {
        "colab": {
          "base_uri": "https://localhost:8080/"
        },
        "id": "8tO3KG4yXt6O",
        "outputId": "4f30a430-c648-4a78-8c20-dab5d9cd1704"
      },
      "execution_count": 4,
      "outputs": [
        {
          "output_type": "stream",
          "name": "stdout",
          "text": [
            "Ginormus\n",
            "DONE\n"
          ]
        }
      ]
    },
    {
      "cell_type": "markdown",
      "source": [
        "## Try / Except"
      ],
      "metadata": {
        "id": "hlqzq1G_OQ6a"
      }
    },
    {
      "cell_type": "code",
      "source": [
        "# when the first conversion fails its just drops into the except: clause and the program continues"
      ],
      "metadata": {
        "id": "CmC2Ik7NbEm_"
      },
      "execution_count": null,
      "outputs": []
    },
    {
      "cell_type": "code",
      "source": [
        "astr = input(\"Ingrese valor de texto: \")\n",
        "try:\n",
        "  istr = int(astr)\n",
        "except:\n",
        "  istr = -1\n",
        "print('First',istr)\n",
        "astr = ('123')\n",
        "try:\n",
        "  istr = int(astr)\n",
        "except:\n",
        "  istr = -1\n",
        "print('Second',istr)"
      ],
      "metadata": {
        "colab": {
          "base_uri": "https://localhost:8080/"
        },
        "id": "6PGx1A1hbEvs",
        "outputId": "1852afca-43e9-471a-ac50-df0d65aa5087"
      },
      "execution_count": 10,
      "outputs": [
        {
          "output_type": "stream",
          "name": "stdout",
          "text": [
            "Ingrese valor de texto: 5\n",
            "First 5\n",
            "Second 123\n"
          ]
        }
      ]
    },
    {
      "cell_type": "code",
      "source": [
        "astr = input(\"Ingrese valor de texto: \")\n",
        "try:\n",
        "  istr = int(astr)\n",
        "except:\n",
        "  istr = -1\n",
        "print('First',istr)\n",
        "astr = input(\"Ingrese valor de texto2: \")\n",
        "try:\n",
        "  istr = int(astr)\n",
        "except:\n",
        "  istr = -1\n",
        "print('Second',istr)"
      ],
      "metadata": {
        "colab": {
          "base_uri": "https://localhost:8080/"
        },
        "id": "WuEnFtFWbE0r",
        "outputId": "2dd0ee75-97fd-4858-c9f1-3726238dda41"
      },
      "execution_count": 12,
      "outputs": [
        {
          "output_type": "stream",
          "name": "stdout",
          "text": [
            "Ingrese valor de texto: j\n",
            "First -1\n",
            "Ingrese valor de texto2: -0\n",
            "Second 0\n"
          ]
        }
      ]
    }
  ]
}