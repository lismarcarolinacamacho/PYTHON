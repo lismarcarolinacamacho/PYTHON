{
  "nbformat": 4,
  "nbformat_minor": 0,
  "metadata": {
    "colab": {
      "name": "prueba_pandas.ipynb",
      "provenance": [],
      "collapsed_sections": [],
      "authorship_tag": "ABX9TyNCY7pN0UmP1rX0Fs4T6d2D",
      "include_colab_link": true
    },
    "kernelspec": {
      "name": "python3",
      "display_name": "Python 3"
    },
    "language_info": {
      "name": "python"
    }
  },
  "cells": [
    {
      "cell_type": "markdown",
      "metadata": {
        "id": "view-in-github",
        "colab_type": "text"
      },
      "source": [
        "<a href=\"https://colab.research.google.com/github/lismarcarolinacamacho/PYTHON-tkinter/blob/main/prueba_pandas.ipynb\" target=\"_parent\"><img src=\"https://colab.research.google.com/assets/colab-badge.svg\" alt=\"Open In Colab\"/></a>"
      ]
    },
    {
      "cell_type": "code",
      "metadata": {
        "id": "Sf0PrRlJyP_8"
      },
      "source": [
        "import numpy as np\n",
        "import pandas as pd"
      ],
      "execution_count": 1,
      "outputs": []
    },
    {
      "cell_type": "code",
      "metadata": {
        "colab": {
          "base_uri": "https://localhost:8080/"
        },
        "id": "RGBEwBi_02V4",
        "outputId": "8ec015a0-afe2-460c-923f-a8700f6c68ac"
      },
      "source": [
        "data = np.array([['','col1','col2'], ['fila1',1,2], ['fila2',3,4]])\n",
        "print(pd.DataFrame(data=data[1:,1:], index=data[1:,0], columns=data[0,1:]))"
      ],
      "execution_count": 2,
      "outputs": [
        {
          "output_type": "stream",
          "name": "stdout",
          "text": [
            "      col1 col2\n",
            "fila1    1    2\n",
            "fila2    3    4\n"
          ]
        }
      ]
    },
    {
      "cell_type": "code",
      "metadata": {
        "colab": {
          "base_uri": "https://localhost:8080/"
        },
        "id": "Zp4D8KxF1_aA",
        "outputId": "92cf3129-5bfc-480c-9c85-07fca868d611"
      },
      "source": [
        "df = pd.DataFrame(np.array([[1,2,3], [4,5,6], [7,8,9]]))\n",
        "print('DataFrame:')\n",
        "print(df)"
      ],
      "execution_count": 56,
      "outputs": [
        {
          "output_type": "stream",
          "name": "stdout",
          "text": [
            "DataFrame:\n",
            "   0  1  2\n",
            "0  1  2  3\n",
            "1  4  5  6\n",
            "2  7  8  9\n"
          ]
        }
      ]
    },
    {
      "cell_type": "code",
      "metadata": {
        "colab": {
          "base_uri": "https://localhost:8080/"
        },
        "id": "VDW19AZG4--l",
        "outputId": "48eb69ae-48b0-47e3-dc7e-e5426d17530c"
      },
      "source": [
        "#media de las columnas\n",
        "print(df.mean())\n"
      ],
      "execution_count": 58,
      "outputs": [
        {
          "output_type": "stream",
          "name": "stdout",
          "text": [
            "0    4.0\n",
            "1    5.0\n",
            "2    6.0\n",
            "dtype: float64\n"
          ]
        }
      ]
    },
    {
      "cell_type": "code",
      "metadata": {
        "colab": {
          "base_uri": "https://localhost:8080/"
        },
        "id": "GcwxeUyM2eGk",
        "outputId": "a01603bb-67cd-4c77-d3e6-e5470fe02775"
      },
      "source": [
        "#series\n",
        "series = pd.Series({\"Argentina\": \"Buenos Aires\",\n",
        "                \"Chile\": \"Santiago de Chile\",\n",
        "                \"Colombia\": \"Bogotá\"})\n",
        "print('Series:')\n",
        "print(series)"
      ],
      "execution_count": 25,
      "outputs": [
        {
          "output_type": "stream",
          "name": "stdout",
          "text": [
            "Series:\n",
            "Argentina         Buenos Aires\n",
            "Chile        Santiago de Chile\n",
            "Colombia                Bogotá\n",
            "dtype: object\n"
          ]
        }
      ]
    },
    {
      "cell_type": "code",
      "metadata": {
        "colab": {
          "base_uri": "https://localhost:8080/"
        },
        "id": "EtXnP_LQ5gjR",
        "outputId": "964b6368-a997-4224-e0ea-32cb2d99925f"
      },
      "source": [
        "#conteo de datos del dataframe\n",
        "\n",
        "print(series.count())\n",
        "print(df.count())"
      ],
      "execution_count": 57,
      "outputs": [
        {
          "output_type": "stream",
          "name": "stdout",
          "text": [
            "3\n",
            "0    3\n",
            "1    3\n",
            "2    3\n",
            "dtype: int64\n"
          ]
        }
      ]
    },
    {
      "cell_type": "code",
      "metadata": {
        "colab": {
          "base_uri": "https://localhost:8080/"
        },
        "id": "SpFP-IBp2eOa",
        "outputId": "7fbcd148-4de6-4901-a72c-c80836c2dbd8"
      },
      "source": [
        "#forma del dataframe\n",
        "\n",
        "print(data.shape)\n",
        "print(df.shape)"
      ],
      "execution_count": 59,
      "outputs": [
        {
          "output_type": "stream",
          "name": "stdout",
          "text": [
            "(3, 3)\n",
            "(3, 3)\n"
          ]
        }
      ]
    },
    {
      "cell_type": "code",
      "metadata": {
        "colab": {
          "base_uri": "https://localhost:8080/"
        },
        "id": "0sI3hpmo2eVq",
        "outputId": "70b91791-5f56-41a1-9631-08ef4045aee0"
      },
      "source": [
        "print(series.describe()) # estadisticas del data frame\n",
        "print(df.describe())"
      ],
      "execution_count": 60,
      "outputs": [
        {
          "output_type": "stream",
          "name": "stdout",
          "text": [
            "count          3\n",
            "unique         3\n",
            "top       Bogotá\n",
            "freq           1\n",
            "dtype: object\n",
            "         0    1    2\n",
            "count  3.0  3.0  3.0\n",
            "mean   4.0  5.0  6.0\n",
            "std    3.0  3.0  3.0\n",
            "min    1.0  2.0  3.0\n",
            "25%    2.5  3.5  4.5\n",
            "50%    4.0  5.0  6.0\n",
            "75%    5.5  6.5  7.5\n",
            "max    7.0  8.0  9.0\n"
          ]
        }
      ]
    },
    {
      "cell_type": "code",
      "metadata": {
        "colab": {
          "base_uri": "https://localhost:8080/"
        },
        "id": "85N42hH64-4K",
        "outputId": "1db6ec7e-57f0-4788-ec39-79c16a428e33"
      },
      "source": [
        "#altura del dataframe\n",
        "\n",
        "print(len(series.index))\n",
        "print(len(df.index))"
      ],
      "execution_count": 61,
      "outputs": [
        {
          "output_type": "stream",
          "name": "stdout",
          "text": [
            "3\n",
            "3\n"
          ]
        }
      ]
    },
    {
      "cell_type": "code",
      "metadata": {
        "colab": {
          "base_uri": "https://localhost:8080/"
        },
        "id": "CjbJjgjX5gpl",
        "outputId": "377c6184-e82d-4e0b-98c6-82ae424c6e1a"
      },
      "source": [
        "# correlacion del dataframe\n",
        "\n",
        "print(df.corr())\n",
        "\n",
        "\n"
      ],
      "execution_count": 65,
      "outputs": [
        {
          "output_type": "stream",
          "name": "stdout",
          "text": [
            "     0    1    2\n",
            "0  1.0  1.0  1.0\n",
            "1  1.0  1.0  1.0\n",
            "2  1.0  1.0  1.0\n"
          ]
        }
      ]
    },
    {
      "cell_type": "code",
      "metadata": {
        "colab": {
          "base_uri": "https://localhost:8080/"
        },
        "id": "snZ80mOn9KRI",
        "outputId": "77b12cca-fc0f-4068-f276-1daff29e8e95"
      },
      "source": [
        "#valor mas alto\n",
        "\n",
        "print(df.max())\n"
      ],
      "execution_count": 66,
      "outputs": [
        {
          "output_type": "stream",
          "name": "stdout",
          "text": [
            "0    7\n",
            "1    8\n",
            "2    9\n",
            "dtype: int64\n"
          ]
        }
      ]
    },
    {
      "cell_type": "code",
      "metadata": {
        "colab": {
          "base_uri": "https://localhost:8080/"
        },
        "id": "HHXDBiqIBoPQ",
        "outputId": "e8eb14c7-9bf6-4eec-a0b9-f577a663b210"
      },
      "source": [
        "#valor mas bajo\n",
        "\n",
        "print(df.min())"
      ],
      "execution_count": 67,
      "outputs": [
        {
          "output_type": "stream",
          "name": "stdout",
          "text": [
            "0    1\n",
            "1    2\n",
            "2    3\n",
            "dtype: int64\n"
          ]
        }
      ]
    },
    {
      "cell_type": "code",
      "metadata": {
        "colab": {
          "base_uri": "https://localhost:8080/"
        },
        "id": "mq8jdZkTBoR-",
        "outputId": "d8bcb456-0b31-4585-8365-233483baad02"
      },
      "source": [
        "#mediana\n",
        "\n",
        "print(df.median())"
      ],
      "execution_count": 68,
      "outputs": [
        {
          "output_type": "stream",
          "name": "stdout",
          "text": [
            "0    4.0\n",
            "1    5.0\n",
            "2    6.0\n",
            "dtype: float64\n"
          ]
        }
      ]
    },
    {
      "cell_type": "code",
      "metadata": {
        "colab": {
          "base_uri": "https://localhost:8080/"
        },
        "id": "iM3PWcVPBoW5",
        "outputId": "20e9a073-1224-4f4a-e6cf-9c05fc272eae"
      },
      "source": [
        "#desviacion estandar\n",
        "\n",
        "print(df.std)"
      ],
      "execution_count": 69,
      "outputs": [
        {
          "output_type": "stream",
          "name": "stdout",
          "text": [
            "<bound method DataFrame.std of    0  1  2\n",
            "0  1  2  3\n",
            "1  4  5  6\n",
            "2  7  8  9>\n"
          ]
        }
      ]
    },
    {
      "cell_type": "code",
      "metadata": {
        "colab": {
          "base_uri": "https://localhost:8080/"
        },
        "id": "r4fr59b6BoZc",
        "outputId": "fe0af343-e9a6-4731-cc95-734c3dfb660c"
      },
      "source": [
        "#seleccionar un indice o columna de un dataframe\n",
        "\n",
        "#primera columna de un dataframe\n",
        "\n",
        "print(df[0])"
      ],
      "execution_count": 71,
      "outputs": [
        {
          "output_type": "stream",
          "name": "stdout",
          "text": [
            "0    1\n",
            "1    4\n",
            "2    7\n",
            "Name: 0, dtype: int64\n"
          ]
        }
      ]
    },
    {
      "cell_type": "code",
      "metadata": {
        "colab": {
          "base_uri": "https://localhost:8080/"
        },
        "id": "PBG56viYCowg",
        "outputId": "98fea9ce-2e6f-40d2-d763-8ad3bcf810d1"
      },
      "source": [
        "#dos columnas de un dataframe\n",
        "\n",
        "print(df[[0,1]])"
      ],
      "execution_count": 72,
      "outputs": [
        {
          "output_type": "stream",
          "name": "stdout",
          "text": [
            "   0  1\n",
            "0  1  2\n",
            "1  4  5\n",
            "2  7  8\n"
          ]
        }
      ]
    },
    {
      "cell_type": "code",
      "metadata": {
        "colab": {
          "base_uri": "https://localhost:8080/"
        },
        "id": "SppJE6lbCozz",
        "outputId": "996b14e1-4cf8-4dc6-ebfe-296380491ffe"
      },
      "source": [
        "#primera fila y ultima columna\n",
        "\n",
        "print (df.iloc[0][2])"
      ],
      "execution_count": 73,
      "outputs": [
        {
          "output_type": "stream",
          "name": "stdout",
          "text": [
            "3\n"
          ]
        }
      ]
    },
    {
      "cell_type": "code",
      "metadata": {
        "id": "VGalLF_MCo3V"
      },
      "source": [
        ""
      ],
      "execution_count": null,
      "outputs": []
    },
    {
      "cell_type": "code",
      "metadata": {
        "id": "ZeDLBgs9Co5o"
      },
      "source": [
        ""
      ],
      "execution_count": null,
      "outputs": []
    }
  ]
}