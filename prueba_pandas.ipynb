{
  "nbformat": 4,
  "nbformat_minor": 0,
  "metadata": {
    "colab": {
      "name": "prueba_pandas.ipynb",
      "provenance": [],
      "collapsed_sections": [],
      "authorship_tag": "ABX9TyOt+gb1VtnY6nOCoNPA4yH5",
      "include_colab_link": true
    },
    "kernelspec": {
      "name": "python3",
      "display_name": "Python 3"
    },
    "language_info": {
      "name": "python"
    }
  },
  "cells": [
    {
      "cell_type": "markdown",
      "metadata": {
        "id": "view-in-github",
        "colab_type": "text"
      },
      "source": [
        "<a href=\"https://colab.research.google.com/github/lismarcarolinacamacho/PYTHON/blob/main/prueba_pandas.ipynb\" target=\"_parent\"><img src=\"https://colab.research.google.com/assets/colab-badge.svg\" alt=\"Open In Colab\"/></a>"
      ]
    },
    {
      "cell_type": "code",
      "metadata": {
        "id": "Sf0PrRlJyP_8"
      },
      "source": [
        "import numpy as np\n",
        "import pandas as pd"
      ],
      "execution_count": null,
      "outputs": []
    },
    {
      "cell_type": "markdown",
      "metadata": {
        "id": "C05JUsJ-JKkr"
      },
      "source": [
        "# Primeros pasos con pandas"
      ]
    },
    {
      "cell_type": "code",
      "metadata": {
        "colab": {
          "base_uri": "https://localhost:8080/"
        },
        "id": "RGBEwBi_02V4",
        "outputId": "d5514578-6ca2-4780-9451-a572da733f65"
      },
      "source": [
        "data = np.array([['','col1','col2'], ['fila1',1,2], ['fila2',3,4]])\n",
        "print(pd.DataFrame(data=data[1:,1:], index=data[1:,0], columns=data[0,1:]))"
      ],
      "execution_count": null,
      "outputs": [
        {
          "output_type": "stream",
          "name": "stdout",
          "text": [
            "      col1 col2\n",
            "fila1    1    2\n",
            "fila2    3    4\n"
          ]
        }
      ]
    },
    {
      "cell_type": "code",
      "metadata": {
        "colab": {
          "base_uri": "https://localhost:8080/"
        },
        "id": "Zp4D8KxF1_aA",
        "outputId": "8c08af27-707d-487a-e771-5df1a71c837e"
      },
      "source": [
        "df = pd.DataFrame(np.array([[1,2,3], [4,5,6], [7,8,9]]))\n",
        "print('DataFrame:')\n",
        "print(df)"
      ],
      "execution_count": null,
      "outputs": [
        {
          "output_type": "stream",
          "name": "stdout",
          "text": [
            "DataFrame:\n",
            "   0  1  2\n",
            "0  1  2  3\n",
            "1  4  5  6\n",
            "2  7  8  9\n"
          ]
        }
      ]
    },
    {
      "cell_type": "code",
      "metadata": {
        "id": "KktoklB-JN0l"
      },
      "source": [
        ""
      ],
      "execution_count": null,
      "outputs": []
    },
    {
      "cell_type": "code",
      "metadata": {
        "colab": {
          "base_uri": "https://localhost:8080/"
        },
        "id": "VDW19AZG4--l",
        "outputId": "abb438f1-4901-4582-9c0d-9a50b9afb115"
      },
      "source": [
        "#media de las columnas\n",
        "print(df.mean())\n"
      ],
      "execution_count": null,
      "outputs": [
        {
          "output_type": "stream",
          "name": "stdout",
          "text": [
            "0    4.0\n",
            "1    5.0\n",
            "2    6.0\n",
            "dtype: float64\n"
          ]
        }
      ]
    },
    {
      "cell_type": "code",
      "metadata": {
        "colab": {
          "base_uri": "https://localhost:8080/"
        },
        "id": "GcwxeUyM2eGk",
        "outputId": "b4ede55f-9dac-4508-8aaf-6249bd828055"
      },
      "source": [
        "#series\n",
        "series = pd.Series({\"Argentina\": \"Buenos Aires\",\n",
        "                \"Chile\": \"Santiago de Chile\",\n",
        "                \"Colombia\": \"Bogotá\"})\n",
        "print('Series:')\n",
        "print(series)"
      ],
      "execution_count": null,
      "outputs": [
        {
          "output_type": "stream",
          "name": "stdout",
          "text": [
            "Series:\n",
            "Argentina         Buenos Aires\n",
            "Chile        Santiago de Chile\n",
            "Colombia                Bogotá\n",
            "dtype: object\n"
          ]
        }
      ]
    },
    {
      "cell_type": "code",
      "metadata": {
        "colab": {
          "base_uri": "https://localhost:8080/"
        },
        "id": "EtXnP_LQ5gjR",
        "outputId": "9df9b20a-3cd1-42fb-b842-67a0970ba6b7"
      },
      "source": [
        "#conteo de datos del dataframe\n",
        "\n",
        "print(series.count())\n",
        "print(df.count())"
      ],
      "execution_count": null,
      "outputs": [
        {
          "output_type": "stream",
          "name": "stdout",
          "text": [
            "3\n",
            "0    3\n",
            "1    3\n",
            "2    3\n",
            "dtype: int64\n"
          ]
        }
      ]
    },
    {
      "cell_type": "code",
      "metadata": {
        "colab": {
          "base_uri": "https://localhost:8080/"
        },
        "id": "SpFP-IBp2eOa",
        "outputId": "cd16827f-5d71-49aa-cba7-a9e99c460adc"
      },
      "source": [
        "#forma del dataframe\n",
        "\n",
        "print(data.shape)\n",
        "print(df.shape)"
      ],
      "execution_count": null,
      "outputs": [
        {
          "output_type": "stream",
          "name": "stdout",
          "text": [
            "(3, 3)\n",
            "(3, 3)\n"
          ]
        }
      ]
    },
    {
      "cell_type": "code",
      "metadata": {
        "colab": {
          "base_uri": "https://localhost:8080/"
        },
        "id": "0sI3hpmo2eVq",
        "outputId": "8515867d-b1db-4315-e436-5934b36e2740"
      },
      "source": [
        "print(series.describe()) # estadisticas del data frame\n",
        "print(df.describe())"
      ],
      "execution_count": null,
      "outputs": [
        {
          "output_type": "stream",
          "name": "stdout",
          "text": [
            "count                3\n",
            "unique               3\n",
            "top       Buenos Aires\n",
            "freq                 1\n",
            "dtype: object\n",
            "         0    1    2\n",
            "count  3.0  3.0  3.0\n",
            "mean   4.0  5.0  6.0\n",
            "std    3.0  3.0  3.0\n",
            "min    1.0  2.0  3.0\n",
            "25%    2.5  3.5  4.5\n",
            "50%    4.0  5.0  6.0\n",
            "75%    5.5  6.5  7.5\n",
            "max    7.0  8.0  9.0\n"
          ]
        }
      ]
    },
    {
      "cell_type": "code",
      "metadata": {
        "colab": {
          "base_uri": "https://localhost:8080/"
        },
        "id": "85N42hH64-4K",
        "outputId": "a2c81475-c416-46cf-ba55-3d00b3f3cfca"
      },
      "source": [
        "#altura del dataframe\n",
        "\n",
        "print(len(series.index))\n",
        "print(len(df.index))"
      ],
      "execution_count": null,
      "outputs": [
        {
          "output_type": "stream",
          "name": "stdout",
          "text": [
            "3\n",
            "3\n"
          ]
        }
      ]
    },
    {
      "cell_type": "code",
      "metadata": {
        "colab": {
          "base_uri": "https://localhost:8080/"
        },
        "id": "CjbJjgjX5gpl",
        "outputId": "a0e3e056-f400-450b-d637-7041cad71302"
      },
      "source": [
        "# correlacion del dataframe\n",
        "\n",
        "print(df.corr())\n",
        "\n",
        "\n"
      ],
      "execution_count": null,
      "outputs": [
        {
          "output_type": "stream",
          "name": "stdout",
          "text": [
            "     0    1    2\n",
            "0  1.0  1.0  1.0\n",
            "1  1.0  1.0  1.0\n",
            "2  1.0  1.0  1.0\n"
          ]
        }
      ]
    },
    {
      "cell_type": "code",
      "metadata": {
        "colab": {
          "base_uri": "https://localhost:8080/"
        },
        "id": "snZ80mOn9KRI",
        "outputId": "0843be41-b87c-423f-cdac-46741267f086"
      },
      "source": [
        "#valor mas alto\n",
        "\n",
        "print(df.max())\n"
      ],
      "execution_count": null,
      "outputs": [
        {
          "output_type": "stream",
          "name": "stdout",
          "text": [
            "0    7\n",
            "1    8\n",
            "2    9\n",
            "dtype: int64\n"
          ]
        }
      ]
    },
    {
      "cell_type": "code",
      "metadata": {
        "colab": {
          "base_uri": "https://localhost:8080/"
        },
        "id": "HHXDBiqIBoPQ",
        "outputId": "fbab840c-a1de-4f24-bcb5-35f0eb786b87"
      },
      "source": [
        "#valor mas bajo\n",
        "\n",
        "print(df.min())"
      ],
      "execution_count": null,
      "outputs": [
        {
          "output_type": "stream",
          "name": "stdout",
          "text": [
            "0    1\n",
            "1    2\n",
            "2    3\n",
            "dtype: int64\n"
          ]
        }
      ]
    },
    {
      "cell_type": "code",
      "metadata": {
        "colab": {
          "base_uri": "https://localhost:8080/"
        },
        "id": "mq8jdZkTBoR-",
        "outputId": "f56e9478-01b6-4311-8337-c48ef6818f31"
      },
      "source": [
        "#mediana\n",
        "\n",
        "print(df.median())"
      ],
      "execution_count": null,
      "outputs": [
        {
          "output_type": "stream",
          "name": "stdout",
          "text": [
            "0    4.0\n",
            "1    5.0\n",
            "2    6.0\n",
            "dtype: float64\n"
          ]
        }
      ]
    },
    {
      "cell_type": "code",
      "metadata": {
        "colab": {
          "base_uri": "https://localhost:8080/"
        },
        "id": "iM3PWcVPBoW5",
        "outputId": "51b3cad2-56fd-4b83-b6a6-29f8b7f85640"
      },
      "source": [
        "#desviacion estandar\n",
        "\n",
        "print(df.std)"
      ],
      "execution_count": null,
      "outputs": [
        {
          "output_type": "stream",
          "name": "stdout",
          "text": [
            "<bound method DataFrame.std of    0  1  2\n",
            "0  1  2  3\n",
            "1  4  5  6\n",
            "2  7  8  9>\n"
          ]
        }
      ]
    },
    {
      "cell_type": "code",
      "metadata": {
        "colab": {
          "base_uri": "https://localhost:8080/"
        },
        "id": "r4fr59b6BoZc",
        "outputId": "129fca1a-9519-4879-f2fd-a0d69831557f"
      },
      "source": [
        "#seleccionar un indice o columna de un dataframe\n",
        "\n",
        "#primera columna de un dataframe\n",
        "\n",
        "print(df[0])"
      ],
      "execution_count": null,
      "outputs": [
        {
          "output_type": "stream",
          "name": "stdout",
          "text": [
            "0    1\n",
            "1    4\n",
            "2    7\n",
            "Name: 0, dtype: int64\n"
          ]
        }
      ]
    },
    {
      "cell_type": "code",
      "metadata": {
        "colab": {
          "base_uri": "https://localhost:8080/"
        },
        "id": "PBG56viYCowg",
        "outputId": "609f8bb8-e1ea-489b-a52e-6144d1106396"
      },
      "source": [
        "#dos columnas de un dataframe\n",
        "\n",
        "print(df[[0,1]])"
      ],
      "execution_count": null,
      "outputs": [
        {
          "output_type": "stream",
          "name": "stdout",
          "text": [
            "   0  1\n",
            "0  1  2\n",
            "1  4  5\n",
            "2  7  8\n"
          ]
        }
      ]
    },
    {
      "cell_type": "code",
      "metadata": {
        "colab": {
          "base_uri": "https://localhost:8080/"
        },
        "id": "SppJE6lbCozz",
        "outputId": "e912d0a0-02a7-4042-f93b-7b9f9e34452f"
      },
      "source": [
        "#primera fila y ultima columna\n",
        "\n",
        "print (df.iloc[0][2])"
      ],
      "execution_count": null,
      "outputs": [
        {
          "output_type": "stream",
          "name": "stdout",
          "text": [
            "3\n"
          ]
        }
      ]
    },
    {
      "cell_type": "code",
      "metadata": {
        "id": "ZeDLBgs9Co5o"
      },
      "source": [
        "#importar un archivo\n",
        "url='https://archive.ics.uci.edu/ml/machine-learning-databases/car/car.data'\n",
        "data_car = pd.read_csv(url)"
      ],
      "execution_count": null,
      "outputs": []
    },
    {
      "cell_type": "code",
      "metadata": {
        "id": "RYrgwC-uaHl0"
      },
      "source": [
        "# luego de hacer cambios al dataframe se puede guardar:\n",
        "\n",
        "# pd.to_tipoarchivo(nombrearchivo)"
      ],
      "execution_count": null,
      "outputs": []
    },
    {
      "cell_type": "code",
      "metadata": {
        "id": "bs3UhC-naa_w"
      },
      "source": [
        "data_car.head(5)"
      ],
      "execution_count": null,
      "outputs": []
    },
    {
      "cell_type": "code",
      "metadata": {
        "id": "6e2ZxJ7HabHi"
      },
      "source": [
        "data_car.columns = ['price', 'maintenance', 'n_doors', 'capacity', 'size_lug', 'safety', 'class']"
      ],
      "execution_count": null,
      "outputs": []
    },
    {
      "cell_type": "code",
      "metadata": {
        "id": "XB_GDWnYabNg",
        "colab": {
          "base_uri": "https://localhost:8080/",
          "height": 206
        },
        "outputId": "db68b44e-54e3-419f-b38e-f75f0d2c2564"
      },
      "source": [
        "data_car.head(5)"
      ],
      "execution_count": null,
      "outputs": [
        {
          "output_type": "execute_result",
          "data": {
            "text/html": [
              "<div>\n",
              "<style scoped>\n",
              "    .dataframe tbody tr th:only-of-type {\n",
              "        vertical-align: middle;\n",
              "    }\n",
              "\n",
              "    .dataframe tbody tr th {\n",
              "        vertical-align: top;\n",
              "    }\n",
              "\n",
              "    .dataframe thead th {\n",
              "        text-align: right;\n",
              "    }\n",
              "</style>\n",
              "<table border=\"1\" class=\"dataframe\">\n",
              "  <thead>\n",
              "    <tr style=\"text-align: right;\">\n",
              "      <th></th>\n",
              "      <th>price</th>\n",
              "      <th>maintenance</th>\n",
              "      <th>n_doors</th>\n",
              "      <th>capacity</th>\n",
              "      <th>size_lug</th>\n",
              "      <th>safety</th>\n",
              "      <th>class</th>\n",
              "    </tr>\n",
              "  </thead>\n",
              "  <tbody>\n",
              "    <tr>\n",
              "      <th>0</th>\n",
              "      <td>vhigh</td>\n",
              "      <td>vhigh</td>\n",
              "      <td>2</td>\n",
              "      <td>2</td>\n",
              "      <td>small</td>\n",
              "      <td>med</td>\n",
              "      <td>unacc</td>\n",
              "    </tr>\n",
              "    <tr>\n",
              "      <th>1</th>\n",
              "      <td>vhigh</td>\n",
              "      <td>vhigh</td>\n",
              "      <td>2</td>\n",
              "      <td>2</td>\n",
              "      <td>small</td>\n",
              "      <td>high</td>\n",
              "      <td>unacc</td>\n",
              "    </tr>\n",
              "    <tr>\n",
              "      <th>2</th>\n",
              "      <td>vhigh</td>\n",
              "      <td>vhigh</td>\n",
              "      <td>2</td>\n",
              "      <td>2</td>\n",
              "      <td>med</td>\n",
              "      <td>low</td>\n",
              "      <td>unacc</td>\n",
              "    </tr>\n",
              "    <tr>\n",
              "      <th>3</th>\n",
              "      <td>vhigh</td>\n",
              "      <td>vhigh</td>\n",
              "      <td>2</td>\n",
              "      <td>2</td>\n",
              "      <td>med</td>\n",
              "      <td>med</td>\n",
              "      <td>unacc</td>\n",
              "    </tr>\n",
              "    <tr>\n",
              "      <th>4</th>\n",
              "      <td>vhigh</td>\n",
              "      <td>vhigh</td>\n",
              "      <td>2</td>\n",
              "      <td>2</td>\n",
              "      <td>med</td>\n",
              "      <td>high</td>\n",
              "      <td>unacc</td>\n",
              "    </tr>\n",
              "  </tbody>\n",
              "</table>\n",
              "</div>"
            ],
            "text/plain": [
              "   price maintenance n_doors capacity size_lug safety  class\n",
              "0  vhigh       vhigh       2        2    small    med  unacc\n",
              "1  vhigh       vhigh       2        2    small   high  unacc\n",
              "2  vhigh       vhigh       2        2      med    low  unacc\n",
              "3  vhigh       vhigh       2        2      med    med  unacc\n",
              "4  vhigh       vhigh       2        2      med   high  unacc"
            ]
          },
          "metadata": {},
          "execution_count": 23
        }
      ]
    },
    {
      "cell_type": "code",
      "metadata": {
        "id": "mZX0ezDGbcVS",
        "colab": {
          "base_uri": "https://localhost:8080/"
        },
        "outputId": "679bf446-6b62-4a75-a741-59adf61e9b34"
      },
      "source": [
        "print(data_car.isnull())"
      ],
      "execution_count": null,
      "outputs": [
        {
          "output_type": "stream",
          "name": "stdout",
          "text": [
            "      price  maintenance  n_doors  capacity  size_lug  safety  class\n",
            "0     False        False    False     False     False   False  False\n",
            "1     False        False    False     False     False   False  False\n",
            "2     False        False    False     False     False   False  False\n",
            "3     False        False    False     False     False   False  False\n",
            "4     False        False    False     False     False   False  False\n",
            "...     ...          ...      ...       ...       ...     ...    ...\n",
            "1722  False        False    False     False     False   False  False\n",
            "1723  False        False    False     False     False   False  False\n",
            "1724  False        False    False     False     False   False  False\n",
            "1725  False        False    False     False     False   False  False\n",
            "1726  False        False    False     False     False   False  False\n",
            "\n",
            "[1727 rows x 7 columns]\n"
          ]
        }
      ]
    },
    {
      "cell_type": "code",
      "metadata": {
        "id": "pY3YfT2Zbox3",
        "colab": {
          "base_uri": "https://localhost:8080/"
        },
        "outputId": "7428c79c-cb6a-4cf4-c646-deb34d1601a6"
      },
      "source": [
        "print(data_car.isnull().sum()) # obtener una suma de valores nulos"
      ],
      "execution_count": null,
      "outputs": [
        {
          "output_type": "stream",
          "name": "stdout",
          "text": [
            "price          0\n",
            "maintenance    0\n",
            "n_doors        0\n",
            "capacity       0\n",
            "size_lug       0\n",
            "safety         0\n",
            "class          0\n",
            "dtype: int64\n"
          ]
        }
      ]
    },
    {
      "cell_type": "code",
      "metadata": {
        "id": "5i9nzZfNcB8w"
      },
      "source": [
        "#pd.dropna() # para eliminar filas"
      ],
      "execution_count": null,
      "outputs": []
    },
    {
      "cell_type": "code",
      "metadata": {
        "id": "ybYD6HmFcCFV"
      },
      "source": [
        "# data_car.dropna(axis = 1)\n",
        "#eliminar datos perdidos"
      ],
      "execution_count": null,
      "outputs": []
    },
    {
      "cell_type": "code",
      "metadata": {
        "id": "VGalLF_MCo3V",
        "colab": {
          "base_uri": "https://localhost:8080/"
        },
        "outputId": "bc2c6634-650f-44ae-8408-e47a51e1a7ac"
      },
      "source": [
        "# valores de la primera fila del dataframe\n",
        "\n",
        "print(df.iloc[0,:])"
      ],
      "execution_count": null,
      "outputs": [
        {
          "output_type": "stream",
          "name": "stdout",
          "text": [
            "0    1\n",
            "1    2\n",
            "2    3\n",
            "Name: 0, dtype: int64\n"
          ]
        }
      ]
    },
    {
      "cell_type": "code",
      "metadata": {
        "id": "S4nlpA6RcZIG"
      },
      "source": [
        "# rellenar con otroa valores\n",
        "# data_car.fillna(x)\n",
        "\n",
        "# se puede reemplazar los datos faltantes con la media\n",
        "\n",
        "# print(data_car.fillna(data_car.mean()))\n"
      ],
      "execution_count": null,
      "outputs": []
    },
    {
      "cell_type": "markdown",
      "metadata": {
        "id": "PMPXsp80I_F6"
      },
      "source": [
        "# Preprocesamiento de datos"
      ]
    },
    {
      "cell_type": "code",
      "metadata": {
        "id": "sYbVU6KzIB76"
      },
      "source": [
        "#importar un archivo directamente de la url\n",
        "\n",
        "url = 'https://archive.ics.uci.edu/ml/machine-learning-databases/car/car.data'"
      ],
      "execution_count": null,
      "outputs": []
    },
    {
      "cell_type": "code",
      "metadata": {
        "id": "KfN8OwU0IIP5"
      },
      "source": [
        "df = pd.read_csv(url)"
      ],
      "execution_count": null,
      "outputs": []
    },
    {
      "cell_type": "code",
      "metadata": {
        "id": "rRWhRyVOIISn",
        "colab": {
          "base_uri": "https://localhost:8080/",
          "height": 206
        },
        "outputId": "b8489ada-3446-40e6-b74f-fcbf09fa9d92"
      },
      "source": [
        "df.head()"
      ],
      "execution_count": null,
      "outputs": [
        {
          "output_type": "execute_result",
          "data": {
            "text/html": [
              "<div>\n",
              "<style scoped>\n",
              "    .dataframe tbody tr th:only-of-type {\n",
              "        vertical-align: middle;\n",
              "    }\n",
              "\n",
              "    .dataframe tbody tr th {\n",
              "        vertical-align: top;\n",
              "    }\n",
              "\n",
              "    .dataframe thead th {\n",
              "        text-align: right;\n",
              "    }\n",
              "</style>\n",
              "<table border=\"1\" class=\"dataframe\">\n",
              "  <thead>\n",
              "    <tr style=\"text-align: right;\">\n",
              "      <th></th>\n",
              "      <th>vhigh</th>\n",
              "      <th>vhigh.1</th>\n",
              "      <th>2</th>\n",
              "      <th>2.1</th>\n",
              "      <th>small</th>\n",
              "      <th>low</th>\n",
              "      <th>unacc</th>\n",
              "    </tr>\n",
              "  </thead>\n",
              "  <tbody>\n",
              "    <tr>\n",
              "      <th>0</th>\n",
              "      <td>vhigh</td>\n",
              "      <td>vhigh</td>\n",
              "      <td>2</td>\n",
              "      <td>2</td>\n",
              "      <td>small</td>\n",
              "      <td>med</td>\n",
              "      <td>unacc</td>\n",
              "    </tr>\n",
              "    <tr>\n",
              "      <th>1</th>\n",
              "      <td>vhigh</td>\n",
              "      <td>vhigh</td>\n",
              "      <td>2</td>\n",
              "      <td>2</td>\n",
              "      <td>small</td>\n",
              "      <td>high</td>\n",
              "      <td>unacc</td>\n",
              "    </tr>\n",
              "    <tr>\n",
              "      <th>2</th>\n",
              "      <td>vhigh</td>\n",
              "      <td>vhigh</td>\n",
              "      <td>2</td>\n",
              "      <td>2</td>\n",
              "      <td>med</td>\n",
              "      <td>low</td>\n",
              "      <td>unacc</td>\n",
              "    </tr>\n",
              "    <tr>\n",
              "      <th>3</th>\n",
              "      <td>vhigh</td>\n",
              "      <td>vhigh</td>\n",
              "      <td>2</td>\n",
              "      <td>2</td>\n",
              "      <td>med</td>\n",
              "      <td>med</td>\n",
              "      <td>unacc</td>\n",
              "    </tr>\n",
              "    <tr>\n",
              "      <th>4</th>\n",
              "      <td>vhigh</td>\n",
              "      <td>vhigh</td>\n",
              "      <td>2</td>\n",
              "      <td>2</td>\n",
              "      <td>med</td>\n",
              "      <td>high</td>\n",
              "      <td>unacc</td>\n",
              "    </tr>\n",
              "  </tbody>\n",
              "</table>\n",
              "</div>"
            ],
            "text/plain": [
              "   vhigh vhigh.1  2 2.1  small   low  unacc\n",
              "0  vhigh   vhigh  2   2  small   med  unacc\n",
              "1  vhigh   vhigh  2   2  small  high  unacc\n",
              "2  vhigh   vhigh  2   2    med   low  unacc\n",
              "3  vhigh   vhigh  2   2    med   med  unacc\n",
              "4  vhigh   vhigh  2   2    med  high  unacc"
            ]
          },
          "metadata": {},
          "execution_count": 32
        }
      ]
    },
    {
      "cell_type": "code",
      "metadata": {
        "id": "3ymFl36SIIVt"
      },
      "source": [
        "df.columns = ['price', 'maintenance', 'n_doors', 'capacity', 'size_lug', 'safety', 'class']"
      ],
      "execution_count": null,
      "outputs": []
    },
    {
      "cell_type": "code",
      "metadata": {
        "id": "uMteEygyIIYn",
        "colab": {
          "base_uri": "https://localhost:8080/",
          "height": 206
        },
        "outputId": "7103fcea-aa2c-4b3b-e76a-af486cd42882"
      },
      "source": [
        "df.head()"
      ],
      "execution_count": null,
      "outputs": [
        {
          "output_type": "execute_result",
          "data": {
            "text/html": [
              "<div>\n",
              "<style scoped>\n",
              "    .dataframe tbody tr th:only-of-type {\n",
              "        vertical-align: middle;\n",
              "    }\n",
              "\n",
              "    .dataframe tbody tr th {\n",
              "        vertical-align: top;\n",
              "    }\n",
              "\n",
              "    .dataframe thead th {\n",
              "        text-align: right;\n",
              "    }\n",
              "</style>\n",
              "<table border=\"1\" class=\"dataframe\">\n",
              "  <thead>\n",
              "    <tr style=\"text-align: right;\">\n",
              "      <th></th>\n",
              "      <th>price</th>\n",
              "      <th>maintenance</th>\n",
              "      <th>n_doors</th>\n",
              "      <th>capacity</th>\n",
              "      <th>size_lug</th>\n",
              "      <th>safety</th>\n",
              "      <th>class</th>\n",
              "    </tr>\n",
              "  </thead>\n",
              "  <tbody>\n",
              "    <tr>\n",
              "      <th>0</th>\n",
              "      <td>vhigh</td>\n",
              "      <td>vhigh</td>\n",
              "      <td>2</td>\n",
              "      <td>2</td>\n",
              "      <td>small</td>\n",
              "      <td>med</td>\n",
              "      <td>unacc</td>\n",
              "    </tr>\n",
              "    <tr>\n",
              "      <th>1</th>\n",
              "      <td>vhigh</td>\n",
              "      <td>vhigh</td>\n",
              "      <td>2</td>\n",
              "      <td>2</td>\n",
              "      <td>small</td>\n",
              "      <td>high</td>\n",
              "      <td>unacc</td>\n",
              "    </tr>\n",
              "    <tr>\n",
              "      <th>2</th>\n",
              "      <td>vhigh</td>\n",
              "      <td>vhigh</td>\n",
              "      <td>2</td>\n",
              "      <td>2</td>\n",
              "      <td>med</td>\n",
              "      <td>low</td>\n",
              "      <td>unacc</td>\n",
              "    </tr>\n",
              "    <tr>\n",
              "      <th>3</th>\n",
              "      <td>vhigh</td>\n",
              "      <td>vhigh</td>\n",
              "      <td>2</td>\n",
              "      <td>2</td>\n",
              "      <td>med</td>\n",
              "      <td>med</td>\n",
              "      <td>unacc</td>\n",
              "    </tr>\n",
              "    <tr>\n",
              "      <th>4</th>\n",
              "      <td>vhigh</td>\n",
              "      <td>vhigh</td>\n",
              "      <td>2</td>\n",
              "      <td>2</td>\n",
              "      <td>med</td>\n",
              "      <td>high</td>\n",
              "      <td>unacc</td>\n",
              "    </tr>\n",
              "  </tbody>\n",
              "</table>\n",
              "</div>"
            ],
            "text/plain": [
              "   price maintenance n_doors capacity size_lug safety  class\n",
              "0  vhigh       vhigh       2        2    small    med  unacc\n",
              "1  vhigh       vhigh       2        2    small   high  unacc\n",
              "2  vhigh       vhigh       2        2      med    low  unacc\n",
              "3  vhigh       vhigh       2        2      med    med  unacc\n",
              "4  vhigh       vhigh       2        2      med   high  unacc"
            ]
          },
          "metadata": {},
          "execution_count": 34
        }
      ]
    },
    {
      "cell_type": "code",
      "metadata": {
        "id": "C4rI8sPfIIbt"
      },
      "source": [
        "#exportar los datos a un archivo EXCEÑ  SE GUARDA EN COLAB --> ARCHIVOS \n",
        "ruta = \"data.xlsx\"\n",
        "df.to_excel(ruta, sheet_name='example')\n"
      ],
      "execution_count": null,
      "outputs": []
    },
    {
      "cell_type": "code",
      "metadata": {
        "id": "iCLuFcxSIIhe",
        "colab": {
          "base_uri": "https://localhost:8080/",
          "height": 175
        },
        "outputId": "a32ec695-cee7-463a-cf03-9deb08a3d9aa"
      },
      "source": [
        "df.describe()"
      ],
      "execution_count": null,
      "outputs": [
        {
          "output_type": "execute_result",
          "data": {
            "text/html": [
              "<div>\n",
              "<style scoped>\n",
              "    .dataframe tbody tr th:only-of-type {\n",
              "        vertical-align: middle;\n",
              "    }\n",
              "\n",
              "    .dataframe tbody tr th {\n",
              "        vertical-align: top;\n",
              "    }\n",
              "\n",
              "    .dataframe thead th {\n",
              "        text-align: right;\n",
              "    }\n",
              "</style>\n",
              "<table border=\"1\" class=\"dataframe\">\n",
              "  <thead>\n",
              "    <tr style=\"text-align: right;\">\n",
              "      <th></th>\n",
              "      <th>price</th>\n",
              "      <th>maintenance</th>\n",
              "      <th>n_doors</th>\n",
              "      <th>capacity</th>\n",
              "      <th>size_lug</th>\n",
              "      <th>safety</th>\n",
              "      <th>class</th>\n",
              "    </tr>\n",
              "  </thead>\n",
              "  <tbody>\n",
              "    <tr>\n",
              "      <th>count</th>\n",
              "      <td>1727</td>\n",
              "      <td>1727</td>\n",
              "      <td>1727</td>\n",
              "      <td>1727</td>\n",
              "      <td>1727</td>\n",
              "      <td>1727</td>\n",
              "      <td>1727</td>\n",
              "    </tr>\n",
              "    <tr>\n",
              "      <th>unique</th>\n",
              "      <td>4</td>\n",
              "      <td>4</td>\n",
              "      <td>4</td>\n",
              "      <td>3</td>\n",
              "      <td>3</td>\n",
              "      <td>3</td>\n",
              "      <td>4</td>\n",
              "    </tr>\n",
              "    <tr>\n",
              "      <th>top</th>\n",
              "      <td>high</td>\n",
              "      <td>high</td>\n",
              "      <td>3</td>\n",
              "      <td>more</td>\n",
              "      <td>med</td>\n",
              "      <td>high</td>\n",
              "      <td>unacc</td>\n",
              "    </tr>\n",
              "    <tr>\n",
              "      <th>freq</th>\n",
              "      <td>432</td>\n",
              "      <td>432</td>\n",
              "      <td>432</td>\n",
              "      <td>576</td>\n",
              "      <td>576</td>\n",
              "      <td>576</td>\n",
              "      <td>1209</td>\n",
              "    </tr>\n",
              "  </tbody>\n",
              "</table>\n",
              "</div>"
            ],
            "text/plain": [
              "       price maintenance n_doors capacity size_lug safety  class\n",
              "count   1727        1727    1727     1727     1727   1727   1727\n",
              "unique     4           4       4        3        3      3      4\n",
              "top     high        high       3     more      med   high  unacc\n",
              "freq     432         432     432      576      576    576   1209"
            ]
          },
          "metadata": {},
          "execution_count": 36
        }
      ]
    },
    {
      "cell_type": "code",
      "metadata": {
        "id": "u8W4So_GL--S",
        "colab": {
          "base_uri": "https://localhost:8080/"
        },
        "outputId": "738f8c5d-7fdc-40d9-b8bb-d8116c433a63"
      },
      "source": [
        "df.info"
      ],
      "execution_count": null,
      "outputs": [
        {
          "output_type": "execute_result",
          "data": {
            "text/plain": [
              "<bound method DataFrame.info of       price maintenance n_doors capacity size_lug safety  class\n",
              "0     vhigh       vhigh       2        2    small    med  unacc\n",
              "1     vhigh       vhigh       2        2    small   high  unacc\n",
              "2     vhigh       vhigh       2        2      med    low  unacc\n",
              "3     vhigh       vhigh       2        2      med    med  unacc\n",
              "4     vhigh       vhigh       2        2      med   high  unacc\n",
              "...     ...         ...     ...      ...      ...    ...    ...\n",
              "1722    low         low   5more     more      med    med   good\n",
              "1723    low         low   5more     more      med   high  vgood\n",
              "1724    low         low   5more     more      big    low  unacc\n",
              "1725    low         low   5more     more      big    med   good\n",
              "1726    low         low   5more     more      big   high  vgood\n",
              "\n",
              "[1727 rows x 7 columns]>"
            ]
          },
          "metadata": {},
          "execution_count": 37
        }
      ]
    },
    {
      "cell_type": "code",
      "metadata": {
        "id": "QACl9ge_IIkh",
        "colab": {
          "base_uri": "https://localhost:8080/"
        },
        "outputId": "315f518c-56ba-4fd6-b786-dba79707df55"
      },
      "source": [
        "df.dtypes"
      ],
      "execution_count": null,
      "outputs": [
        {
          "output_type": "execute_result",
          "data": {
            "text/plain": [
              "price          object\n",
              "maintenance    object\n",
              "n_doors        object\n",
              "capacity       object\n",
              "size_lug       object\n",
              "safety         object\n",
              "class          object\n",
              "dtype: object"
            ]
          },
          "metadata": {},
          "execution_count": 38
        }
      ]
    },
    {
      "cell_type": "markdown",
      "metadata": {
        "id": "Q5pQ72mvOfOf"
      },
      "source": [
        "# Tratamiento de datos perdidos\n",
        "\n",
        "N/A\n",
        "?\n",
        "CELDA VACIA\n",
        "\n",
        "*   ELIMINAR LA VARIBALE FALTANTE\n",
        "*   ELIMINAR LA FILA COMPLETA\n",
        "\n",
        "\n",
        "*   REEMPLAZAR LOS DATOS CON CON EL PROMEDIO DE LA VARIABLE COMPLETA\n",
        "\n",
        "\n",
        "\n"
      ]
    },
    {
      "cell_type": "code",
      "metadata": {
        "id": "wv7TN22VOjqN"
      },
      "source": [
        "# df.dropna(axis = 0) # 0 para eliminar filas\n",
        "# df.dropna(axis = 1) # 1 para las columnas\n",
        "# argumento inplace = True\n",
        "\n",
        "# no es la mejor opcion "
      ],
      "execution_count": null,
      "outputs": []
    },
    {
      "cell_type": "code",
      "metadata": {
        "id": "c7_byp-GOjw1"
      },
      "source": [
        "#cambiando variables categoricas en variables numericas\n",
        "\n",
        "df['maintenance'].replace(to_replace = ['vhigh','high','med','low'], value =[4,3,2,1], inplace=True)\n",
        "\n",
        "\n"
      ],
      "execution_count": null,
      "outputs": []
    },
    {
      "cell_type": "code",
      "metadata": {
        "id": "VKabm6opOj0F",
        "colab": {
          "base_uri": "https://localhost:8080/",
          "height": 206
        },
        "outputId": "8aba6c31-83d2-448a-b264-d7a1115ba0c7"
      },
      "source": [
        "df.head()\n"
      ],
      "execution_count": null,
      "outputs": [
        {
          "output_type": "execute_result",
          "data": {
            "text/html": [
              "<div>\n",
              "<style scoped>\n",
              "    .dataframe tbody tr th:only-of-type {\n",
              "        vertical-align: middle;\n",
              "    }\n",
              "\n",
              "    .dataframe tbody tr th {\n",
              "        vertical-align: top;\n",
              "    }\n",
              "\n",
              "    .dataframe thead th {\n",
              "        text-align: right;\n",
              "    }\n",
              "</style>\n",
              "<table border=\"1\" class=\"dataframe\">\n",
              "  <thead>\n",
              "    <tr style=\"text-align: right;\">\n",
              "      <th></th>\n",
              "      <th>price</th>\n",
              "      <th>maintenance</th>\n",
              "      <th>n_doors</th>\n",
              "      <th>capacity</th>\n",
              "      <th>size_lug</th>\n",
              "      <th>safety</th>\n",
              "      <th>class</th>\n",
              "    </tr>\n",
              "  </thead>\n",
              "  <tbody>\n",
              "    <tr>\n",
              "      <th>0</th>\n",
              "      <td>vhigh</td>\n",
              "      <td>4</td>\n",
              "      <td>2</td>\n",
              "      <td>2</td>\n",
              "      <td>small</td>\n",
              "      <td>med</td>\n",
              "      <td>unacc</td>\n",
              "    </tr>\n",
              "    <tr>\n",
              "      <th>1</th>\n",
              "      <td>vhigh</td>\n",
              "      <td>4</td>\n",
              "      <td>2</td>\n",
              "      <td>2</td>\n",
              "      <td>small</td>\n",
              "      <td>high</td>\n",
              "      <td>unacc</td>\n",
              "    </tr>\n",
              "    <tr>\n",
              "      <th>2</th>\n",
              "      <td>vhigh</td>\n",
              "      <td>4</td>\n",
              "      <td>2</td>\n",
              "      <td>2</td>\n",
              "      <td>med</td>\n",
              "      <td>low</td>\n",
              "      <td>unacc</td>\n",
              "    </tr>\n",
              "    <tr>\n",
              "      <th>3</th>\n",
              "      <td>vhigh</td>\n",
              "      <td>4</td>\n",
              "      <td>2</td>\n",
              "      <td>2</td>\n",
              "      <td>med</td>\n",
              "      <td>med</td>\n",
              "      <td>unacc</td>\n",
              "    </tr>\n",
              "    <tr>\n",
              "      <th>4</th>\n",
              "      <td>vhigh</td>\n",
              "      <td>4</td>\n",
              "      <td>2</td>\n",
              "      <td>2</td>\n",
              "      <td>med</td>\n",
              "      <td>high</td>\n",
              "      <td>unacc</td>\n",
              "    </tr>\n",
              "  </tbody>\n",
              "</table>\n",
              "</div>"
            ],
            "text/plain": [
              "   price  maintenance n_doors capacity size_lug safety  class\n",
              "0  vhigh            4       2        2    small    med  unacc\n",
              "1  vhigh            4       2        2    small   high  unacc\n",
              "2  vhigh            4       2        2      med    low  unacc\n",
              "3  vhigh            4       2        2      med    med  unacc\n",
              "4  vhigh            4       2        2      med   high  unacc"
            ]
          },
          "metadata": {},
          "execution_count": 41
        }
      ]
    },
    {
      "cell_type": "code",
      "metadata": {
        "id": "YOviL-uIOj4Q",
        "colab": {
          "base_uri": "https://localhost:8080/"
        },
        "outputId": "e0d160a2-9ca0-4b4f-a70f-5110c126d3e8"
      },
      "source": [
        "df['maintenance'].mean()"
      ],
      "execution_count": null,
      "outputs": [
        {
          "output_type": "execute_result",
          "data": {
            "text/plain": [
              "2.499131441806601"
            ]
          },
          "metadata": {},
          "execution_count": 42
        }
      ]
    },
    {
      "cell_type": "code",
      "metadata": {
        "id": "eeR5CpeASDgX",
        "colab": {
          "base_uri": "https://localhost:8080/"
        },
        "outputId": "1b2f1ce0-fa67-4ec7-963a-c6f495f9e303"
      },
      "source": [
        "promedio =2\n",
        "#reemplazar los valores faltantes con el promedio\n",
        "df['maintenance'].replace(np.nan,promedio )"
      ],
      "execution_count": null,
      "outputs": [
        {
          "output_type": "execute_result",
          "data": {
            "text/plain": [
              "0       4\n",
              "1       4\n",
              "2       4\n",
              "3       4\n",
              "4       4\n",
              "       ..\n",
              "1722    1\n",
              "1723    1\n",
              "1724    1\n",
              "1725    1\n",
              "1726    1\n",
              "Name: maintenance, Length: 1727, dtype: int64"
            ]
          },
          "metadata": {},
          "execution_count": 43
        }
      ]
    },
    {
      "cell_type": "code",
      "metadata": {
        "id": "5Gog8Y3WSq0F"
      },
      "source": [
        "# este comando crea columnas nuevas dependiendo de cuantos valores hay \n",
        "\n",
        "df=pd.get_dummies(df, columns =['size_lug'])\n"
      ],
      "execution_count": null,
      "outputs": []
    },
    {
      "cell_type": "code",
      "metadata": {
        "id": "1AqXEk3zSq3l",
        "colab": {
          "base_uri": "https://localhost:8080/",
          "height": 206
        },
        "outputId": "ae6ad995-e7ff-47c0-94ef-5b613fa7724d"
      },
      "source": [
        "df.head()"
      ],
      "execution_count": null,
      "outputs": [
        {
          "output_type": "execute_result",
          "data": {
            "text/html": [
              "<div>\n",
              "<style scoped>\n",
              "    .dataframe tbody tr th:only-of-type {\n",
              "        vertical-align: middle;\n",
              "    }\n",
              "\n",
              "    .dataframe tbody tr th {\n",
              "        vertical-align: top;\n",
              "    }\n",
              "\n",
              "    .dataframe thead th {\n",
              "        text-align: right;\n",
              "    }\n",
              "</style>\n",
              "<table border=\"1\" class=\"dataframe\">\n",
              "  <thead>\n",
              "    <tr style=\"text-align: right;\">\n",
              "      <th></th>\n",
              "      <th>price</th>\n",
              "      <th>maintenance</th>\n",
              "      <th>n_doors</th>\n",
              "      <th>capacity</th>\n",
              "      <th>safety</th>\n",
              "      <th>class</th>\n",
              "      <th>size_lug_big</th>\n",
              "      <th>size_lug_med</th>\n",
              "      <th>size_lug_small</th>\n",
              "    </tr>\n",
              "  </thead>\n",
              "  <tbody>\n",
              "    <tr>\n",
              "      <th>0</th>\n",
              "      <td>vhigh</td>\n",
              "      <td>4</td>\n",
              "      <td>2</td>\n",
              "      <td>2</td>\n",
              "      <td>med</td>\n",
              "      <td>unacc</td>\n",
              "      <td>0</td>\n",
              "      <td>0</td>\n",
              "      <td>1</td>\n",
              "    </tr>\n",
              "    <tr>\n",
              "      <th>1</th>\n",
              "      <td>vhigh</td>\n",
              "      <td>4</td>\n",
              "      <td>2</td>\n",
              "      <td>2</td>\n",
              "      <td>high</td>\n",
              "      <td>unacc</td>\n",
              "      <td>0</td>\n",
              "      <td>0</td>\n",
              "      <td>1</td>\n",
              "    </tr>\n",
              "    <tr>\n",
              "      <th>2</th>\n",
              "      <td>vhigh</td>\n",
              "      <td>4</td>\n",
              "      <td>2</td>\n",
              "      <td>2</td>\n",
              "      <td>low</td>\n",
              "      <td>unacc</td>\n",
              "      <td>0</td>\n",
              "      <td>1</td>\n",
              "      <td>0</td>\n",
              "    </tr>\n",
              "    <tr>\n",
              "      <th>3</th>\n",
              "      <td>vhigh</td>\n",
              "      <td>4</td>\n",
              "      <td>2</td>\n",
              "      <td>2</td>\n",
              "      <td>med</td>\n",
              "      <td>unacc</td>\n",
              "      <td>0</td>\n",
              "      <td>1</td>\n",
              "      <td>0</td>\n",
              "    </tr>\n",
              "    <tr>\n",
              "      <th>4</th>\n",
              "      <td>vhigh</td>\n",
              "      <td>4</td>\n",
              "      <td>2</td>\n",
              "      <td>2</td>\n",
              "      <td>high</td>\n",
              "      <td>unacc</td>\n",
              "      <td>0</td>\n",
              "      <td>1</td>\n",
              "      <td>0</td>\n",
              "    </tr>\n",
              "  </tbody>\n",
              "</table>\n",
              "</div>"
            ],
            "text/plain": [
              "   price  maintenance n_doors  ... size_lug_big size_lug_med size_lug_small\n",
              "0  vhigh            4       2  ...            0            0              1\n",
              "1  vhigh            4       2  ...            0            0              1\n",
              "2  vhigh            4       2  ...            0            1              0\n",
              "3  vhigh            4       2  ...            0            1              0\n",
              "4  vhigh            4       2  ...            0            1              0\n",
              "\n",
              "[5 rows x 9 columns]"
            ]
          },
          "metadata": {},
          "execution_count": 45
        }
      ]
    },
    {
      "cell_type": "code",
      "metadata": {
        "id": "ASzu2S5wSq7A"
      },
      "source": [
        ""
      ],
      "execution_count": null,
      "outputs": []
    },
    {
      "cell_type": "code",
      "metadata": {
        "id": "N-VpNVL_Sq_b"
      },
      "source": [
        ""
      ],
      "execution_count": null,
      "outputs": []
    }
  ]
}